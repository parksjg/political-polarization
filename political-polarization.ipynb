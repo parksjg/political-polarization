{
  "nbformat": 4,
  "nbformat_minor": 0,
  "metadata": {
    "colab": {
      "name": "ANES_R_Code.ipynb",
      "provenance": []
    },
    "kernelspec": {
      "name": "python3",
      "display_name": "Python 3"
    },
    "language_info": {
      "name": "python"
    }
  },
  "cells": [
    {
      "cell_type": "markdown",
      "source": [
        "Switiching notebook to R"
      ],
      "metadata": {
        "id": "EKeBOtEEi0mo"
      }
    },
    {
      "cell_type": "code",
      "execution_count": null,
      "metadata": {
        "id": "tN5JaozmfOzg"
      },
      "outputs": [],
      "source": [
        "%load_ext rpy2.ipython"
      ]
    },
    {
      "cell_type": "markdown",
      "source": [
        "Downloading ANES csv file from google drive"
      ],
      "metadata": {
        "id": "z2Pv6764iuPP"
      }
    },
    {
      "cell_type": "code",
      "source": [
        "!gdown --id 1JEx2DhBaXEzUUD7Ka6HtNLC2QN_De5PO"
      ],
      "metadata": {
        "colab": {
          "base_uri": "https://localhost:8080/"
        },
        "id": "S3XUWjIgiFYW",
        "outputId": "1992d267-08cc-4fb0-8723-39139aeba90d"
      },
      "execution_count": null,
      "outputs": [
        {
          "output_type": "stream",
          "name": "stdout",
          "text": [
            "Downloading...\n",
            "From: https://drive.google.com/uc?id=1JEx2DhBaXEzUUD7Ka6HtNLC2QN_De5PO\n",
            "To: /content/anes_timeseries_2020_csv_20210719.csv\n",
            "100% 39.7M/39.7M [00:00<00:00, 194MB/s] \n"
          ]
        }
      ]
    },
    {
      "cell_type": "markdown",
      "source": [
        "Installing packages"
      ],
      "metadata": {
        "id": "I33OzXYPsqbw"
      }
    },
    {
      "cell_type": "code",
      "source": [
        "%%R\n",
        "\n",
        "install.packages(\"stargazer\")\n",
        "install.packages(\"survey\")\n",
        "install.packages(\"fastDummies\")"
      ],
      "metadata": {
        "colab": {
          "base_uri": "https://localhost:8080/"
        },
        "id": "mWXJBa5AsP64",
        "outputId": "5e1348ec-7c86-4764-a7d2-3ca247462f1d"
      },
      "execution_count": null,
      "outputs": [
        {
          "output_type": "stream",
          "name": "stderr",
          "text": [
            "R[write to console]: Installing package into ‘/usr/local/lib/R/site-library’\n",
            "(as ‘lib’ is unspecified)\n",
            "\n",
            "R[write to console]: trying URL 'https://cran.rstudio.com/src/contrib/stargazer_5.2.3.tar.gz'\n",
            "\n",
            "R[write to console]: Content type 'application/x-gzip'\n",
            "R[write to console]:  length 311587 bytes (304 KB)\n",
            "\n",
            "R[write to console]: =\n",
            "R[write to console]: =\n",
            "R[write to console]: =\n",
            "R[write to console]: =\n",
            "R[write to console]: =\n",
            "R[write to console]: =\n",
            "R[write to console]: =\n",
            "R[write to console]: =\n",
            "R[write to console]: =\n",
            "R[write to console]: =\n",
            "R[write to console]: =\n",
            "R[write to console]: =\n",
            "R[write to console]: =\n",
            "R[write to console]: =\n",
            "R[write to console]: =\n",
            "R[write to console]: =\n",
            "R[write to console]: =\n",
            "R[write to console]: =\n",
            "R[write to console]: =\n",
            "R[write to console]: =\n",
            "R[write to console]: =\n",
            "R[write to console]: =\n",
            "R[write to console]: =\n",
            "R[write to console]: =\n",
            "R[write to console]: =\n",
            "R[write to console]: =\n",
            "R[write to console]: =\n",
            "R[write to console]: =\n",
            "R[write to console]: =\n",
            "R[write to console]: =\n",
            "R[write to console]: =\n",
            "R[write to console]: =\n",
            "R[write to console]: =\n",
            "R[write to console]: =\n",
            "R[write to console]: =\n",
            "R[write to console]: =\n",
            "R[write to console]: =\n",
            "R[write to console]: =\n",
            "R[write to console]: =\n",
            "R[write to console]: =\n",
            "R[write to console]: =\n",
            "R[write to console]: =\n",
            "R[write to console]: =\n",
            "R[write to console]: =\n",
            "R[write to console]: =\n",
            "R[write to console]: =\n",
            "R[write to console]: =\n",
            "R[write to console]: =\n",
            "R[write to console]: =\n",
            "R[write to console]: =\n",
            "R[write to console]: \n",
            "\n",
            "R[write to console]: downloaded 304 KB\n",
            "\n",
            "\n",
            "R[write to console]: \n",
            "\n",
            "R[write to console]: \n",
            "R[write to console]: The downloaded source packages are in\n",
            "\t‘/tmp/RtmpNcn3NG/downloaded_packages’\n",
            "R[write to console]: \n",
            "R[write to console]: \n",
            "\n",
            "R[write to console]: Installing package into ‘/usr/local/lib/R/site-library’\n",
            "(as ‘lib’ is unspecified)\n",
            "\n",
            "R[write to console]: also installing the dependencies ‘minqa’, ‘numDeriv’, ‘mitools’\n",
            "\n",
            "\n",
            "R[write to console]: trying URL 'https://cran.rstudio.com/src/contrib/minqa_1.2.4.tar.gz'\n",
            "\n",
            "R[write to console]: Content type 'application/x-gzip'\n",
            "R[write to console]:  length 53548 bytes (52 KB)\n",
            "\n",
            "R[write to console]: =\n",
            "R[write to console]: =\n",
            "R[write to console]: =\n",
            "R[write to console]: =\n",
            "R[write to console]: =\n",
            "R[write to console]: =\n",
            "R[write to console]: =\n",
            "R[write to console]: =\n",
            "R[write to console]: =\n",
            "R[write to console]: =\n",
            "R[write to console]: =\n",
            "R[write to console]: =\n",
            "R[write to console]: =\n",
            "R[write to console]: =\n",
            "R[write to console]: =\n",
            "R[write to console]: =\n",
            "R[write to console]: =\n",
            "R[write to console]: =\n",
            "R[write to console]: =\n",
            "R[write to console]: =\n",
            "R[write to console]: =\n",
            "R[write to console]: =\n",
            "R[write to console]: =\n",
            "R[write to console]: =\n",
            "R[write to console]: =\n",
            "R[write to console]: =\n",
            "R[write to console]: =\n",
            "R[write to console]: =\n",
            "R[write to console]: =\n",
            "R[write to console]: =\n",
            "R[write to console]: =\n",
            "R[write to console]: =\n",
            "R[write to console]: =\n",
            "R[write to console]: =\n",
            "R[write to console]: =\n",
            "R[write to console]: =\n",
            "R[write to console]: =\n",
            "R[write to console]: =\n",
            "R[write to console]: =\n",
            "R[write to console]: =\n",
            "R[write to console]: =\n",
            "R[write to console]: =\n",
            "R[write to console]: =\n",
            "R[write to console]: =\n",
            "R[write to console]: =\n",
            "R[write to console]: =\n",
            "R[write to console]: =\n",
            "R[write to console]: =\n",
            "R[write to console]: =\n",
            "R[write to console]: =\n",
            "R[write to console]: \n",
            "\n",
            "R[write to console]: downloaded 52 KB\n",
            "\n",
            "\n",
            "R[write to console]: trying URL 'https://cran.rstudio.com/src/contrib/numDeriv_2016.8-1.1.tar.gz'\n",
            "\n",
            "R[write to console]: Content type 'application/x-gzip'\n",
            "R[write to console]:  length 76053 bytes (74 KB)\n",
            "\n",
            "R[write to console]: =\n",
            "R[write to console]: =\n",
            "R[write to console]: =\n",
            "R[write to console]: =\n",
            "R[write to console]: =\n",
            "R[write to console]: =\n",
            "R[write to console]: =\n",
            "R[write to console]: =\n",
            "R[write to console]: =\n",
            "R[write to console]: =\n",
            "R[write to console]: =\n",
            "R[write to console]: =\n",
            "R[write to console]: =\n",
            "R[write to console]: =\n",
            "R[write to console]: =\n",
            "R[write to console]: =\n",
            "R[write to console]: =\n",
            "R[write to console]: =\n",
            "R[write to console]: =\n",
            "R[write to console]: =\n",
            "R[write to console]: =\n",
            "R[write to console]: =\n",
            "R[write to console]: =\n",
            "R[write to console]: =\n",
            "R[write to console]: =\n",
            "R[write to console]: =\n",
            "R[write to console]: =\n",
            "R[write to console]: =\n",
            "R[write to console]: =\n",
            "R[write to console]: =\n",
            "R[write to console]: =\n",
            "R[write to console]: =\n",
            "R[write to console]: =\n",
            "R[write to console]: =\n",
            "R[write to console]: =\n",
            "R[write to console]: =\n",
            "R[write to console]: =\n",
            "R[write to console]: =\n",
            "R[write to console]: =\n",
            "R[write to console]: =\n",
            "R[write to console]: =\n",
            "R[write to console]: =\n",
            "R[write to console]: =\n",
            "R[write to console]: =\n",
            "R[write to console]: =\n",
            "R[write to console]: =\n",
            "R[write to console]: =\n",
            "R[write to console]: =\n",
            "R[write to console]: =\n",
            "R[write to console]: =\n",
            "R[write to console]: \n",
            "\n",
            "R[write to console]: downloaded 74 KB\n",
            "\n",
            "\n",
            "R[write to console]: trying URL 'https://cran.rstudio.com/src/contrib/mitools_2.4.tar.gz'\n",
            "\n",
            "R[write to console]: Content type 'application/x-gzip'\n",
            "R[write to console]:  length 229514 bytes (224 KB)\n",
            "\n",
            "R[write to console]: =\n",
            "R[write to console]: =\n",
            "R[write to console]: =\n",
            "R[write to console]: =\n",
            "R[write to console]: =\n",
            "R[write to console]: =\n",
            "R[write to console]: =\n",
            "R[write to console]: =\n",
            "R[write to console]: =\n",
            "R[write to console]: =\n",
            "R[write to console]: =\n",
            "R[write to console]: =\n",
            "R[write to console]: =\n",
            "R[write to console]: =\n",
            "R[write to console]: =\n",
            "R[write to console]: =\n",
            "R[write to console]: =\n",
            "R[write to console]: =\n",
            "R[write to console]: =\n",
            "R[write to console]: =\n",
            "R[write to console]: =\n",
            "R[write to console]: =\n",
            "R[write to console]: =\n",
            "R[write to console]: =\n",
            "R[write to console]: =\n",
            "R[write to console]: =\n",
            "R[write to console]: =\n",
            "R[write to console]: =\n",
            "R[write to console]: =\n",
            "R[write to console]: =\n",
            "R[write to console]: =\n",
            "R[write to console]: =\n",
            "R[write to console]: =\n",
            "R[write to console]: =\n",
            "R[write to console]: =\n",
            "R[write to console]: =\n",
            "R[write to console]: =\n",
            "R[write to console]: =\n",
            "R[write to console]: =\n",
            "R[write to console]: =\n",
            "R[write to console]: =\n",
            "R[write to console]: =\n",
            "R[write to console]: =\n",
            "R[write to console]: =\n",
            "R[write to console]: =\n",
            "R[write to console]: =\n",
            "R[write to console]: =\n",
            "R[write to console]: =\n",
            "R[write to console]: =\n",
            "R[write to console]: =\n",
            "R[write to console]: \n",
            "\n",
            "R[write to console]: downloaded 224 KB\n",
            "\n",
            "\n",
            "R[write to console]: trying URL 'https://cran.rstudio.com/src/contrib/survey_4.1-1.tar.gz'\n",
            "\n",
            "R[write to console]: Content type 'application/x-gzip'\n",
            "R[write to console]:  length 1736232 bytes (1.7 MB)\n",
            "\n",
            "R[write to console]: =\n",
            "R[write to console]: =\n",
            "R[write to console]: =\n",
            "R[write to console]: =\n",
            "R[write to console]: =\n",
            "R[write to console]: =\n",
            "R[write to console]: =\n",
            "R[write to console]: =\n",
            "R[write to console]: =\n",
            "R[write to console]: =\n",
            "R[write to console]: =\n",
            "R[write to console]: =\n",
            "R[write to console]: =\n",
            "R[write to console]: =\n",
            "R[write to console]: =\n",
            "R[write to console]: =\n",
            "R[write to console]: =\n",
            "R[write to console]: =\n",
            "R[write to console]: =\n",
            "R[write to console]: =\n",
            "R[write to console]: =\n",
            "R[write to console]: =\n",
            "R[write to console]: =\n",
            "R[write to console]: =\n",
            "R[write to console]: =\n",
            "R[write to console]: =\n",
            "R[write to console]: =\n",
            "R[write to console]: =\n",
            "R[write to console]: =\n",
            "R[write to console]: =\n",
            "R[write to console]: =\n",
            "R[write to console]: =\n",
            "R[write to console]: =\n",
            "R[write to console]: =\n",
            "R[write to console]: =\n",
            "R[write to console]: =\n",
            "R[write to console]: =\n",
            "R[write to console]: =\n",
            "R[write to console]: =\n",
            "R[write to console]: =\n",
            "R[write to console]: =\n",
            "R[write to console]: =\n",
            "R[write to console]: =\n",
            "R[write to console]: =\n",
            "R[write to console]: =\n",
            "R[write to console]: =\n",
            "R[write to console]: =\n",
            "R[write to console]: =\n",
            "R[write to console]: =\n",
            "R[write to console]: =\n",
            "R[write to console]: \n",
            "\n",
            "R[write to console]: downloaded 1.7 MB\n",
            "\n",
            "\n",
            "R[write to console]: \n",
            "\n",
            "R[write to console]: \n",
            "R[write to console]: The downloaded source packages are in\n",
            "\t‘/tmp/RtmpNcn3NG/downloaded_packages’\n",
            "R[write to console]: \n",
            "R[write to console]: \n",
            "\n",
            "R[write to console]: Installing package into ‘/usr/local/lib/R/site-library’\n",
            "(as ‘lib’ is unspecified)\n",
            "\n",
            "R[write to console]: trying URL 'https://cran.rstudio.com/src/contrib/fastDummies_1.6.3.tar.gz'\n",
            "\n",
            "R[write to console]: Content type 'application/x-gzip'\n",
            "R[write to console]:  length 28939 bytes (28 KB)\n",
            "\n",
            "R[write to console]: =\n",
            "R[write to console]: =\n",
            "R[write to console]: =\n",
            "R[write to console]: =\n",
            "R[write to console]: =\n",
            "R[write to console]: =\n",
            "R[write to console]: =\n",
            "R[write to console]: =\n",
            "R[write to console]: =\n",
            "R[write to console]: =\n",
            "R[write to console]: =\n",
            "R[write to console]: =\n",
            "R[write to console]: =\n",
            "R[write to console]: =\n",
            "R[write to console]: =\n",
            "R[write to console]: =\n",
            "R[write to console]: =\n",
            "R[write to console]: =\n",
            "R[write to console]: =\n",
            "R[write to console]: =\n",
            "R[write to console]: =\n",
            "R[write to console]: =\n",
            "R[write to console]: =\n",
            "R[write to console]: =\n",
            "R[write to console]: =\n",
            "R[write to console]: =\n",
            "R[write to console]: =\n",
            "R[write to console]: =\n",
            "R[write to console]: =\n",
            "R[write to console]: =\n",
            "R[write to console]: =\n",
            "R[write to console]: =\n",
            "R[write to console]: =\n",
            "R[write to console]: =\n",
            "R[write to console]: =\n",
            "R[write to console]: =\n",
            "R[write to console]: =\n",
            "R[write to console]: =\n",
            "R[write to console]: =\n",
            "R[write to console]: =\n",
            "R[write to console]: =\n",
            "R[write to console]: =\n",
            "R[write to console]: =\n",
            "R[write to console]: =\n",
            "R[write to console]: =\n",
            "R[write to console]: =\n",
            "R[write to console]: =\n",
            "R[write to console]: =\n",
            "R[write to console]: =\n",
            "R[write to console]: =\n",
            "R[write to console]: \n",
            "\n",
            "R[write to console]: downloaded 28 KB\n",
            "\n",
            "\n",
            "R[write to console]: \n",
            "\n",
            "R[write to console]: \n",
            "R[write to console]: The downloaded source packages are in\n",
            "\t‘/tmp/RtmpNcn3NG/downloaded_packages’\n",
            "R[write to console]: \n",
            "R[write to console]: \n",
            "\n"
          ]
        }
      ]
    },
    {
      "cell_type": "markdown",
      "source": [
        "Loading dplyr and ggplot2, reading data into R"
      ],
      "metadata": {
        "id": "rPvtc-tDjF8h"
      }
    },
    {
      "cell_type": "code",
      "source": [
        "%%R\n",
        "\n",
        "library(dplyr)\n",
        "library(ggplot2)\n",
        "library(survey)\n",
        "library(stargazer)\n",
        "library(fastDummies)\n",
        "library(haven)"
      ],
      "metadata": {
        "id": "lfK_WcGlip7R",
        "colab": {
          "base_uri": "https://localhost:8080/"
        },
        "outputId": "dcff3b0a-4fbe-45aa-c4ae-bf95c94ae22c"
      },
      "execution_count": null,
      "outputs": [
        {
          "output_type": "stream",
          "name": "stderr",
          "text": [
            "R[write to console]: \n",
            "Attaching package: ‘dplyr’\n",
            "\n",
            "\n",
            "R[write to console]: The following objects are masked from ‘package:stats’:\n",
            "\n",
            "    filter, lag\n",
            "\n",
            "\n",
            "R[write to console]: The following objects are masked from ‘package:base’:\n",
            "\n",
            "    intersect, setdiff, setequal, union\n",
            "\n",
            "\n",
            "R[write to console]: Loading required package: grid\n",
            "\n",
            "R[write to console]: Loading required package: Matrix\n",
            "\n",
            "R[write to console]: Loading required package: survival\n",
            "\n",
            "R[write to console]: \n",
            "Attaching package: ‘survey’\n",
            "\n",
            "\n",
            "R[write to console]: The following object is masked from ‘package:graphics’:\n",
            "\n",
            "    dotchart\n",
            "\n",
            "\n",
            "R[write to console]: \n",
            "Please cite as: \n",
            "\n",
            "\n",
            "R[write to console]:  Hlavac, Marek (2022). stargazer: Well-Formatted Regression and Summary Statistics Tables.\n",
            "\n",
            "R[write to console]:  R package version 5.2.3. https://CRAN.R-project.org/package=stargazer \n",
            "\n",
            "\n"
          ]
        }
      ]
    },
    {
      "cell_type": "markdown",
      "source": [
        "# 2020 Data"
      ],
      "metadata": {
        "id": "8s_oMNJMykDD"
      }
    },
    {
      "cell_type": "code",
      "source": [
        "%%R\n",
        "\n",
        "df <- read.csv('/content/anes_timeseries_2020_csv_20210719.csv')"
      ],
      "metadata": {
        "id": "bsrM-5BQgUr4"
      },
      "execution_count": null,
      "outputs": []
    },
    {
      "cell_type": "markdown",
      "source": [
        "Selecting and renaming the relevant variables"
      ],
      "metadata": {
        "id": "22GR3ZCTmtkz"
      }
    },
    {
      "cell_type": "code",
      "source": [
        "%%R\n",
        "\n",
        "df_clean <- df %>% select(prevote_weight =  V200010a, # Pre-election weight\n",
        "                          attention = V201005, # How often do you pay attention to what’s going on in government and politics?\n",
        "                          state_reg = V201013a, # State of registration\n",
        "                          party_reg = V201018, # What political party are you registers with, if any?\n",
        "                          prevote_choice = V201033, # Who do you think you will vote for?\n",
        "                          dem_rate = V201156, # How would you rate the Democratic Party?\n",
        "                          rep_rate = V201157, # How would you rate the Republican Party?\n",
        "                          dem_like = V201158, # Is there anything in particular that you like about the Democratic Party?\n",
        "                          dem_dislike = V201160, # Is there anything in particular that you don’t like about the Democratic Party?\n",
        "                          rep_like = V201162, # Is there anything in particular that you like about the Republican Party?\n",
        "                          rep_dislike = V201164, # Is there anything in particular that you don't like about the Republican Party?\n",
        "                          self_scale = V201200, # Where would you place yourself on this scale, or haven’t you thought much about this?\n",
        "                          liberal_conservative = V201201, # If you had to choose, would you consider yourself a liberal or a conservative?\n",
        "                          dem_party_scale = V201206, # Where would you place the Democratic Party on this scale?\n",
        "                          rep_party_scale = V201207, # Where would you place the Republican Party on this scale?\n",
        "                          party_id= V201228, # Generally speaking, do you usually think of yourself as Democrat, Republic, an independent, or what?\n",
        "                          party_spectrum = V201231x, # Party ID Summary\n",
        "                          prevote_count_acc = V201351, # In the November 2020 election, how accurately do you think the votes will be counted?\n",
        "                          prevote_trust = V201352, # How much do you trust the officials who oversee elections where you live?\n",
        "                          age = V201507x, # Age\n",
        "                          race = V201549x, # Race Summary\n",
        "                          sex = V201600, # What is your sex?\n",
        "                          postvote_weight = V200010b, # Post-election weight\n",
        "                          stat_reg = V202054a, # State registered\n",
        "                          party_reg_post = V202064, # What political party are you registers with, if any?\n",
        "                          lib_rate= V202161, # How would you rate: liberals\n",
        "                          con_rate = V202164, # How would you rate: conservatives\n",
        "                          fair = V202219, # In your view, how often do the following things occur in this country’s elections: votes are counted fairly?\n",
        "                          dem_rate10 = V202433, # Rate Democratic Party\n",
        "                          rep_rate10 = V202434, # Rate Republican Party\n",
        "                          educ = V201511x, # Education Summary\n",
        "                          stratum = V200010d, # Strata to use wwith weights\n",
        "                          cluster = V200010c #Cluster id(psu) that goes with strata and weights\n",
        "                          )"
      ],
      "metadata": {
        "id": "GUUCIo-2jxqL"
      },
      "execution_count": null,
      "outputs": []
    },
    {
      "cell_type": "code",
      "source": [
        "%%R\n",
        "\n",
        "summary(df_clean)"
      ],
      "metadata": {
        "colab": {
          "base_uri": "https://localhost:8080/"
        },
        "id": "8arcd-hGkqh8",
        "outputId": "c604d3b1-aa2b-4abf-8f95-fd17dc7ae9f0"
      },
      "execution_count": null,
      "outputs": [
        {
          "output_type": "stream",
          "name": "stdout",
          "text": [
            " prevote_weight     attention        state_reg        party_reg      \n",
            " Min.   :0.0265   Min.   :-9.000   Min.   :-1.000   Min.   :-9.0000  \n",
            " 1st Qu.:0.4465   1st Qu.: 2.000   1st Qu.:-1.000   1st Qu.:-1.0000  \n",
            " Median :0.7366   Median : 2.000   Median :-1.000   Median : 1.0000  \n",
            " Mean   :1.0000   Mean   : 2.312   Mean   : 1.911   Mean   : 0.5685  \n",
            " 3rd Qu.:1.2365   3rd Qu.: 3.000   3rd Qu.:-1.000   3rd Qu.: 2.0000  \n",
            " Max.   :6.9329   Max.   : 5.000   Max.   :99.000   Max.   : 5.0000  \n",
            "                                                                     \n",
            " prevote_choice      dem_rate         rep_rate         dem_like     \n",
            " Min.   :-9.000   Min.   : -9.00   Min.   : -9.00   Min.   :-9.000  \n",
            " 1st Qu.: 1.000   1st Qu.: 15.00   1st Qu.: 15.00   1st Qu.: 1.000  \n",
            " Median : 1.000   Median : 50.00   Median : 40.00   Median : 1.000  \n",
            " Mean   : 1.165   Mean   : 44.75   Mean   : 43.13   Mean   : 1.454  \n",
            " 3rd Qu.: 2.000   3rd Qu.: 70.00   3rd Qu.: 70.00   3rd Qu.: 2.000  \n",
            " Max.   :12.000   Max.   :998.00   Max.   :998.00   Max.   : 2.000  \n",
            "                                                                    \n",
            "  dem_dislike       rep_like       rep_dislike       self_scale   \n",
            " Min.   :-9.00   Min.   :-9.000   Min.   :-9.000   Min.   :-9.00  \n",
            " 1st Qu.: 1.00   1st Qu.: 1.000   1st Qu.: 1.000   1st Qu.: 3.00  \n",
            " Median : 1.00   Median : 2.000   Median : 1.000   Median : 4.00  \n",
            " Mean   : 1.35   Mean   : 1.476   Mean   : 1.359   Mean   :17.82  \n",
            " 3rd Qu.: 2.00   3rd Qu.: 2.000   3rd Qu.: 2.000   3rd Qu.: 6.00  \n",
            " Max.   : 2.00   Max.   : 2.000   Max.   : 2.000   Max.   :99.00  \n",
            "                                                                  \n",
            " liberal_conservative dem_party_scale  rep_party_scale     party_id     \n",
            " Min.   :-9.0000      Min.   :-9.000   Min.   :-9.000   Min.   :-9.000  \n",
            " 1st Qu.:-1.0000      1st Qu.: 1.000   1st Qu.: 5.000   1st Qu.: 1.000  \n",
            " Median :-1.0000      Median : 2.000   Median : 6.000   Median : 2.000  \n",
            " Mean   :-0.2547      Mean   : 2.254   Mean   : 5.452   Mean   : 1.991  \n",
            " 3rd Qu.: 1.0000      3rd Qu.: 3.000   3rd Qu.: 7.000   3rd Qu.: 3.000  \n",
            " Max.   : 3.0000      Max.   : 7.000   Max.   : 7.000   Max.   : 5.000  \n",
            "                                                                        \n",
            " party_spectrum   prevote_count_acc prevote_trust         age       \n",
            " Min.   :-9.000   Min.   :-9.000    Min.   :-9.000   Min.   :-9.00  \n",
            " 1st Qu.: 2.000   1st Qu.: 2.000    1st Qu.: 3.000   1st Qu.:35.00  \n",
            " Median : 4.000   Median : 3.000    Median : 3.000   Median :51.00  \n",
            " Mean   : 3.834   Mean   : 3.004    Mean   : 3.325   Mean   :49.04  \n",
            " 3rd Qu.: 6.000   3rd Qu.: 4.000    3rd Qu.: 4.000   3rd Qu.:65.00  \n",
            " Max.   : 7.000   Max.   : 5.000    Max.   : 5.000   Max.   :80.00  \n",
            "                                                                    \n",
            "      race             sex         postvote_weight     stat_reg     \n",
            " Min.   :-9.000   Min.   :-9.000   Min.   :0.0083   Min.   :-9.000  \n",
            " 1st Qu.: 1.000   1st Qu.: 1.000   1st Qu.:0.3863   1st Qu.:-1.000  \n",
            " Median : 1.000   Median : 2.000   Median :0.6863   Median :-1.000  \n",
            " Mean   : 1.499   Mean   : 1.457   Mean   :1.0000   Mean   :-1.363  \n",
            " 3rd Qu.: 2.000   3rd Qu.: 2.000   3rd Qu.:1.2110   3rd Qu.:-1.000  \n",
            " Max.   : 6.000   Max.   : 2.000   Max.   :6.6507   Max.   :54.000  \n",
            "                                   NA's   :827                      \n",
            " party_reg_post      lib_rate         con_rate           fair       \n",
            " Min.   :-7.000   Min.   : -9.00   Min.   : -9.00   Min.   :-9.000  \n",
            " 1st Qu.:-1.000   1st Qu.: 15.00   1st Qu.: 25.00   1st Qu.: 1.000  \n",
            " Median :-1.000   Median : 50.00   Median : 50.00   Median : 2.000  \n",
            " Mean   :-1.458   Mean   : 44.23   Mean   : 47.72   Mean   : 1.355  \n",
            " 3rd Qu.:-1.000   3rd Qu.: 70.00   3rd Qu.: 70.00   3rd Qu.: 3.000  \n",
            " Max.   : 5.000   Max.   :999.00   Max.   :999.00   Max.   : 5.000  \n",
            "                                                                    \n",
            "   dem_rate10       rep_rate10          educ           stratum     \n",
            " Min.   :-9.000   Min.   :-9.000   Min.   :-9.000   Min.   : 1.00  \n",
            " 1st Qu.: 0.000   1st Qu.: 0.000   1st Qu.: 3.000   1st Qu.:12.00  \n",
            " Median : 5.000   Median : 4.000   Median : 3.000   Median :25.00  \n",
            " Mean   : 3.809   Mean   : 3.469   Mean   : 3.273   Mean   :24.74  \n",
            " 3rd Qu.: 8.000   3rd Qu.: 7.000   3rd Qu.: 4.000   3rd Qu.:37.00  \n",
            " Max.   :10.000   Max.   :10.000   Max.   : 5.000   Max.   :50.00  \n",
            "                                                                   \n",
            "    cluster     \n",
            " Min.   :1.000  \n",
            " 1st Qu.:1.000  \n",
            " Median :2.000  \n",
            " Mean   :1.508  \n",
            " 3rd Qu.:2.000  \n",
            " Max.   :3.000  \n",
            "                \n"
          ]
        }
      ]
    },
    {
      "cell_type": "markdown",
      "source": [
        "Here I filter the data to only include those who reposnded to the question on whether they think votes are counted fairly and anyone who does not identify as republican or independent.\n",
        "\n",
        "Then I calculate the difference between in-group and out-group rating and make a dummy variable to indicate those who do not believe that the votes were counted fairly."
      ],
      "metadata": {
        "id": "J2nbV5gqd2Lc"
      }
    },
    {
      "cell_type": "code",
      "source": [
        "%%R\n",
        "\n",
        "df_clean2 <- df_clean %>% filter(fair >= 1 & fair <= 5 &\n",
        "                                 party_id >=1 & party_id <= 2) %>%\n",
        "  mutate(dem_rate_clean = case_when(dem_rate >= 0 & dem_rate <= 100 ~ dem_rate,\n",
        "                                    TRUE ~ NA_integer_),\n",
        "         rep_rate_clean = case_when(rep_rate >= 0 & rep_rate <= 100 ~ rep_rate,\n",
        "                                    TRUE ~ NA_integer_),\n",
        "         aff_polar = case_when(party_id == 1 ~ dem_rate_clean - rep_rate_clean,\n",
        "                               party_id == 2 ~ rep_rate_clean - dem_rate_clean),\n",
        "         fair_dummy = case_when(fair == 4 | fair == 5 ~ 1,\n",
        "                                    TRUE ~ 0)\n",
        ")"
      ],
      "metadata": {
        "id": "dbXSnEUE_bfG"
      },
      "execution_count": null,
      "outputs": []
    },
    {
      "cell_type": "markdown",
      "source": [
        "Transforming variables into factors"
      ],
      "metadata": {
        "id": "gZ6Bxhy7h4al"
      }
    },
    {
      "cell_type": "code",
      "source": [
        "%%R\n",
        "\n",
        "df_clean2$fair <- df_clean2$fair %>% as.factor()\n",
        "df_clean2$fair_dummy <- df_clean2$fair_dummy %>% as.factor()"
      ],
      "metadata": {
        "id": "OBJJsD-WEmLt"
      },
      "execution_count": null,
      "outputs": []
    },
    {
      "cell_type": "markdown",
      "source": [
        "Looking at the fair variable, most respondents fall into categories 1 or 2 which mean they believe votes are counted all of the time or most of the time respectively."
      ],
      "metadata": {
        "id": "hjtOLqTqh3Jq"
      }
    },
    {
      "cell_type": "code",
      "source": [
        "%%R\n",
        "\n",
        "print(table(df_clean2$fair))"
      ],
      "metadata": {
        "colab": {
          "base_uri": "https://localhost:8080/"
        },
        "id": "_Q9fo42LhPFk",
        "outputId": "97a47ca7-f489-4087-a594-deb47d305f18"
      },
      "execution_count": null,
      "outputs": [
        {
          "output_type": "stream",
          "name": "stdout",
          "text": [
            "\n",
            "   1    2    3    4    5 \n",
            "1448 2024  450  658  286 \n"
          ]
        }
      ]
    },
    {
      "cell_type": "markdown",
      "source": [
        "Looking at affective polarization by group."
      ],
      "metadata": {
        "id": "nqxs-v5iyNUK"
      }
    },
    {
      "cell_type": "code",
      "source": [
        "%%R\n",
        "\n",
        "hist_data <- df_clean2 %>%\n",
        "  filter(party_id == 1) %>%\n",
        "  group_by(fair) %>%\n",
        "  summarize(Mean_polar = mean(aff_polar, na.rm=TRUE))\n",
        "\n",
        "ggplot(hist_data, aes(x = fair, y = Mean_polar)) +\n",
        "  geom_histogram(stat = 'identity') +\n",
        "  xlab('How often are votes counted fairly?') + \n",
        "  ylab('Average Affective Polarization') +\n",
        "  scale_x_discrete(limit = c(\"1\", \"2\", \"3\", \"4\", \"5\"),\n",
        "                   labels = c(\"All of the Time\", \"Most of the Time\", \n",
        "                              \"About Half of the Time\", \"Some of the Time\", \n",
        "                              \"Never\")) +\n",
        "  theme_bw()"
      ],
      "metadata": {
        "colab": {
          "base_uri": "https://localhost:8080/",
          "height": 497
        },
        "id": "5oGunuCIiTEv",
        "outputId": "e0cd4eca-274b-4d00-d9e4-869fc79f8017"
      },
      "execution_count": null,
      "outputs": [
        {
          "output_type": "display_data",
          "data": {
            "image/png": "[encoded data removed]"
          },
          "metadata": {}
        }
      ]
    },
    {
      "cell_type": "markdown",
      "source": [
        "Based on the ANOVA test we can reject the hypothesis that the mean for each group is equivalent."
      ],
      "metadata": {
        "id": "OK8SfXg1ylYK"
      }
    },
    {
      "cell_type": "code",
      "source": [
        "%%R\n",
        "\n",
        "anova <- aov(aff_polar ~ fair, data = df_clean2)\n",
        "summary(anova)"
      ],
      "metadata": {
        "colab": {
          "base_uri": "https://localhost:8080/"
        },
        "id": "wjSD-sAvyBfG",
        "outputId": "52be3496-0681-4b93-839d-ea5256b2795d"
      },
      "execution_count": null,
      "outputs": [
        {
          "output_type": "stream",
          "name": "stdout",
          "text": [
            "              Df  Sum Sq Mean Sq F value Pr(>F)    \n",
            "fair           4  113753   28438   28.51 <2e-16 ***\n",
            "Residuals   4795 4782689     997                   \n",
            "---\n",
            "Signif. codes:  0 ‘***’ 0.001 ‘**’ 0.01 ‘*’ 0.05 ‘.’ 0.1 ‘ ’ 1\n",
            "66 observations deleted due to missingness\n"
          ]
        }
      ]
    },
    {
      "cell_type": "markdown",
      "source": [
        "The affective polarization variable on its own is significant."
      ],
      "metadata": {
        "id": "xAP9stan0fPg"
      }
    },
    {
      "cell_type": "code",
      "source": [
        "%%R\n",
        "\n",
        "full_design <- svydesign(ids = ~fair,\n",
        "                         psu = ~cluster,\n",
        "                         strata = ~stratum,\n",
        "                         weights = ~postvote_weight,\n",
        "                         data = df_clean2, \n",
        "                         nest = TRUE)\n",
        "\n",
        "svylog_reg <- svyglm(fair_dummy ~ aff_polar, design = full_design, family = 'quasibinomial')\n",
        "summary(svylog_reg)"
      ],
      "metadata": {
        "colab": {
          "base_uri": "https://localhost:8080/"
        },
        "id": "3XKlX2w_s2l5",
        "outputId": "d3a9c240-5cab-46aa-be2b-f0960e339ba7"
      },
      "execution_count": null,
      "outputs": [
        {
          "output_type": "stream",
          "name": "stdout",
          "text": [
            "\n",
            "Call:\n",
            "svyglm(formula = fair_dummy ~ aff_polar, design = full_design, \n",
            "    family = \"quasibinomial\")\n",
            "\n",
            "Survey design:\n",
            "svydesign(ids = ~fair, psu = ~cluster, strata = ~stratum, weights = ~postvote_weight, \n",
            "    data = df_clean2, nest = TRUE)\n",
            "\n",
            "Coefficients:\n",
            "             Estimate Std. Error t value Pr(>|t|)    \n",
            "(Intercept) -1.773292   0.212345  -8.351 1.14e-14 ***\n",
            "aff_polar    0.007872   0.001938   4.062 6.99e-05 ***\n",
            "---\n",
            "Signif. codes:  0 ‘***’ 0.001 ‘**’ 0.01 ‘*’ 0.05 ‘.’ 0.1 ‘ ’ 1\n",
            "\n",
            "(Dispersion parameter for quasibinomial family taken to be 1.013236)\n",
            "\n",
            "Number of Fisher Scoring iterations: 4\n",
            "\n"
          ]
        }
      ]
    },
    {
      "cell_type": "markdown",
      "source": [
        "After running a logistic regression we can interpret the coefficients.\n",
        "\n",
        "The coefficients represent log-odds given by the following formula, $log(\\frac{p}{1 -p})$ in which p is the probability that y = 1.  In this case y = 1 means that the repsondent does not think the election votes are counted fairly. \n",
        "\n",
        "Below I convert the coefficient from log-odds to probability so that it is more easily interpreted. I compare the affective polarization value of 0 (least polarized) and 100 (most polarized). The expected change in odds between someone with a polarized value of 0 in 100 is 2.197. This means that the odds of someone who is the most polarized is expected to have 2.197 times higher odds not trusting the elections results.\n",
        "\n",
        "We can also convert odds to probability. Probability 1 represents the probability that someone who is the least polarized would not trust the election results (0.145) while probability two is the probability that somebody who is the most polarized would not trust election results (0.27). For reference, 19% of respondents overall did not trust the results of the election.\n",
        "\n",
        "More info on interpretation: https://stats.oarc.ucla.edu/other/mult-pkg/faq/general/faq-how-do-i-interpret-odds-ratios-in-logistic-regression/"
      ],
      "metadata": {
        "id": "_bvvdIWC3jYu"
      }
    },
    {
      "cell_type": "code",
      "source": [
        "%%R\n",
        "\n",
        "intercept <- coef(svylog_reg)[1]\n",
        "polar_coef <- coef(svylog_reg)[2]\n",
        "\n",
        "one <- intercept + polar_coef*0\n",
        "two <- intercept + polar_coef*100\n",
        "\n",
        "print(paste(\"The expected change in odds is\", exp(two - one)))\n",
        "\n",
        "print(paste(\"Probability 1:\", exp(one)/(1 + exp(one))))\n",
        "print(paste(\"Probability 2:\", exp(two)/(1 + exp(two))))"
      ],
      "metadata": {
        "colab": {
          "base_uri": "https://localhost:8080/"
        },
        "id": "9yx5yBXa2nyO",
        "outputId": "b0b29614-51fa-47ed-95bd-73ac645076b2"
      },
      "execution_count": null,
      "outputs": [
        {
          "output_type": "stream",
          "name": "stdout",
          "text": [
            "[1] \"The expected change in odds is 2.19715359107128\"\n",
            "[1] \"Probability 1: 0.145133456463798\"\n",
            "[1] \"Probability 2: 0.271677358553361\"\n"
          ]
        }
      ]
    },
    {
      "cell_type": "markdown",
      "source": [
        "Changing all -9 values to NA."
      ],
      "metadata": {
        "id": "QXudBtVicW2t"
      }
    },
    {
      "cell_type": "code",
      "source": [
        "%%R\n",
        "\n",
        "df_clean2 <- df_clean2 %>%\n",
        "   mutate(across(where(is.integer), ~na_if(., -9)))\n",
        "\n",
        "\n",
        "df_clean2 <- df_clean2 %>%\n",
        "   mutate(across(where(is.integer), ~na_if(., -8)))\n",
        "\n",
        "\n",
        "df_clean2 <- df_clean2 %>%\n",
        "   mutate(across(where(is.integer), ~na_if(., -2)))"
      ],
      "metadata": {
        "id": "9Fjs7IwiajWy"
      },
      "execution_count": null,
      "outputs": []
    },
    {
      "cell_type": "markdown",
      "source": [
        "Converting control variables to factors."
      ],
      "metadata": {
        "id": "bto79cMn8B0N"
      }
    },
    {
      "cell_type": "code",
      "source": [
        "%%R\n",
        "\n",
        "cols <- c('sex', 'race', 'party_id', 'educ')\n",
        "df_clean2[cols] <- lapply(df_clean2[cols], factor)"
      ],
      "metadata": {
        "id": "VLWstjSHeFFC"
      },
      "execution_count": null,
      "outputs": []
    },
    {
      "cell_type": "markdown",
      "source": [
        "Creating dummy variables for the control variables since svyglm does not recognize factors as categorical variables"
      ],
      "metadata": {
        "id": "-oeRRMUZygkq"
      }
    },
    {
      "cell_type": "code",
      "source": [
        "%%R\n",
        "\n",
        "df_clean2 <- dummy_cols(df_clean2, select_columns = cols)"
      ],
      "metadata": {
        "id": "sYaevNV0xK6P"
      },
      "execution_count": null,
      "outputs": []
    },
    {
      "cell_type": "markdown",
      "source": [
        "Running a logistic regression with all the control variables. Most variables have a significant relationship with perception of fairness.\n",
        "\n",
        "More info on assessing model fit: https://www.statology.org/null-residual-deviance/"
      ],
      "metadata": {
        "id": "CUKwQZ7A73ef"
      }
    },
    {
      "cell_type": "code",
      "source": [
        "%%R\n",
        "\n",
        "full_design <- svydesign(ids = ~fair,\n",
        "                         psu = ~cluster,\n",
        "                         strata = ~stratum,\n",
        "                         weights = ~postvote_weight,\n",
        "                         data = df_clean2, \n",
        "                         nest = TRUE)\n",
        "\n",
        "svylog_reg2 <- svyglm(fair_dummy ~ aff_polar + party_id_2 + educ_2 + educ_3 + \n",
        "                      educ_4 + educ_5 + race_2 + race_3 + race_4 + race_5 + race_6 +\n",
        "                      age + sex_2, design = full_design, family = 'quasibinomial')\n",
        "summary(svylog_reg2)"
      ],
      "metadata": {
        "colab": {
          "base_uri": "https://localhost:8080/"
        },
        "id": "iEptaGiaj_lY",
        "outputId": "6b1ac2d7-d03c-4c17-d233-e91cc309e94d"
      },
      "execution_count": null,
      "outputs": [
        {
          "output_type": "stream",
          "name": "stdout",
          "text": [
            "\n",
            "Call:\n",
            "svyglm(formula = fair_dummy ~ aff_polar + party_id_2 + educ_2 + \n",
            "    educ_3 + educ_4 + educ_5 + race_2 + race_3 + race_4 + race_5 + \n",
            "    race_6 + age + sex_2, design = full_design, family = \"quasibinomial\")\n",
            "\n",
            "Survey design:\n",
            "svydesign(ids = ~fair, psu = ~cluster, strata = ~stratum, weights = ~postvote_weight, \n",
            "    data = df_clean2, nest = TRUE)\n",
            "\n",
            "Coefficients:\n",
            "             Estimate Std. Error t value Pr(>|t|)    \n",
            "(Intercept) -1.653450   0.451365  -3.663 0.000324 ***\n",
            "aff_polar    0.006108   0.002016   3.030 0.002793 ** \n",
            "party_id_2   2.075561   0.185970  11.161  < 2e-16 ***\n",
            "educ_2      -0.625532   0.291236  -2.148 0.033012 *  \n",
            "educ_3      -0.843267   0.270652  -3.116 0.002124 ** \n",
            "educ_4      -1.338877   0.290476  -4.609 7.47e-06 ***\n",
            "educ_5      -1.582437   0.307668  -5.143 6.78e-07 ***\n",
            "race_2       0.442842   0.266287   1.663 0.097983 .  \n",
            "race_3       0.374768   0.215861   1.736 0.084184 .  \n",
            "race_4      -0.422746   0.444819  -0.950 0.343146    \n",
            "race_5       0.325537   0.603145   0.540 0.590023    \n",
            "race_6       0.436780   0.413120   1.057 0.291751    \n",
            "age         -0.014799   0.003428  -4.318 2.56e-05 ***\n",
            "sex_2        0.367822   0.123067   2.989 0.003177 ** \n",
            "---\n",
            "Signif. codes:  0 ‘***’ 0.001 ‘**’ 0.01 ‘*’ 0.05 ‘.’ 0.1 ‘ ’ 1\n",
            "\n",
            "(Dispersion parameter for quasibinomial family taken to be 1.03086)\n",
            "\n",
            "Number of Fisher Scoring iterations: 5\n",
            "\n"
          ]
        }
      ]
    },
    {
      "cell_type": "markdown",
      "source": [
        "After controlling for all the variables the effect of affective polarization is not as strong but still significant. The expected odds of someone who is the most polarized not trusting the election are 1.84 times higher than someone who is the least polarized (compared to 2.197 before adding in controls).\n",
        "\n",
        "This indicates that some of the controls explain some of the difference in effect between affective polarization and perception of fairness but not all of the difference as the effect is still significant.\n",
        "\n",
        "The reason I didn't calculate the predicted probabilities here is that they are now different based on the other control variables. For example, the model's predicted probability of not trusting election results would now be different for a 40 year-old man compared to a 30 year-old women, even if they had the same level of affective polarization."
      ],
      "metadata": {
        "id": "0-ZBQoIf8jV7"
      }
    },
    {
      "cell_type": "code",
      "source": [
        "%%R\n",
        "\n",
        "intercept <- coef(svylog_reg2)[1]\n",
        "polar_coef <- coef(svylog_reg2)[2]\n",
        "\n",
        "one <-  polar_coef*0\n",
        "two <- polar_coef*100\n",
        "\n",
        "print(paste(\"The expected change in odds is\", exp(two - one)))"
      ],
      "metadata": {
        "colab": {
          "base_uri": "https://localhost:8080/"
        },
        "id": "CczM3Ccm7yJc",
        "outputId": "2b141620-195e-4674-9234-d7ad9c01854f"
      },
      "execution_count": null,
      "outputs": [
        {
          "output_type": "stream",
          "name": "stdout",
          "text": [
            "[1] \"The expected change in odds is 1.84189842938977\"\n"
          ]
        }
      ]
    },
    {
      "cell_type": "markdown",
      "source": [
        "# 2016 Data"
      ],
      "metadata": {
        "id": "b1I-qVtYPv9j"
      }
    },
    {
      "cell_type": "code",
      "source": [
        "!gdown --id 1L2qNPPiabFVyynYShpwsQq6aTb49s9xB"
      ],
      "metadata": {
        "colab": {
          "base_uri": "https://localhost:8080/"
        },
        "id": "vhD5ntWsPwjU",
        "outputId": "39e48ff9-31dc-417d-e1f8-24fd9dd06e6e"
      },
      "execution_count": null,
      "outputs": [
        {
          "output_type": "stream",
          "name": "stdout",
          "text": [
            "Downloading...\n",
            "From: https://drive.google.com/uc?id=1L2qNPPiabFVyynYShpwsQq6aTb49s9xB\n",
            "To: /content/anes_timeseries_2016.dta\n",
            "\r  0% 0.00/36.7M [00:00<?, ?B/s]\r 49% 17.8M/36.7M [00:00<00:00, 176MB/s]\r100% 36.7M/36.7M [00:00<00:00, 238MB/s]\n"
          ]
        }
      ]
    },
    {
      "cell_type": "code",
      "source": [
        "%%R\n",
        "\n",
        "df16 <- read_dta('/content/anes_timeseries_2016.dta')\n",
        "write.csv(df16, file = '/content/anes_timeseries_2016.csv')\n",
        "df16 <- read.csv('/content/anes_timeseries_2016.csv')"
      ],
      "metadata": {
        "id": "ukZK4WmLYE2_"
      },
      "execution_count": null,
      "outputs": []
    },
    {
      "cell_type": "markdown",
      "source": [
        "Selecting and renaming the relevant variables"
      ],
      "metadata": {
        "id": "bPgow4ZhAyi-"
      }
    },
    {
      "cell_type": "code",
      "source": [
        "%%R\n",
        "\n",
        "df16_clean <- df16 %>% select(dem_rate = V161095, # How would you rate the Democratic Party? (0-100)\n",
        "                              rep_rate = V161096, # How would you rate the Republican Party? (0-100)\n",
        "                              party_id= V161155, # Generally speaking, do you usually think of yourself as Democrat, Republic, an independent, or what?\n",
        "                              dem_rate10 = V162283, # Rate Democratic Party\n",
        "                              rep_rate10 = V162284, # Rate Republican Party\n",
        "                              fair = V162219, # In your view, how often do the following things occur in this country’s elections: votes are counted fairly? scale 1-5\n",
        "                              age = V161267, # Age\n",
        "                              race = V161310x, # Race Summary\n",
        "                              sex = V161002, # What is your sex?\n",
        "                              educ = V161270, # education level\n",
        "                              stratum = V160201, # Strata to use with weights\n",
        "                              cluster = V160202, # Cluster id(psu) that goes with strata and weights\n",
        "                              postvote_weight = V160102 # Weight from anes_timeseries_2016_userguidecodebook.pdf for full sample\n",
        ")"
      ],
      "metadata": {
        "id": "LnCD9TwfA0V1"
      },
      "execution_count": null,
      "outputs": []
    },
    {
      "cell_type": "code",
      "source": [
        "%%R\n",
        "\n",
        "summary(df16_clean)"
      ],
      "metadata": {
        "colab": {
          "base_uri": "https://localhost:8080/"
        },
        "id": "IJSDWLwABOu9",
        "outputId": "9f465488-c6b7-4d42-9588-ab0c48c0f3d1"
      },
      "execution_count": null,
      "outputs": [
        {
          "output_type": "stream",
          "name": "stdout",
          "text": [
            "    dem_rate         rep_rate         party_id    dem_rate10    \n",
            " Min.   :-99.00   Min.   :-99.00   Min.   :-9   Min.   :-9.000  \n",
            " 1st Qu.: 16.25   1st Qu.: 15.00   1st Qu.: 1   1st Qu.: 0.000  \n",
            " Median : 50.00   Median : 49.00   Median : 2   Median : 5.000  \n",
            " Mean   : 45.81   Mean   : 40.69   Mean   : 2   Mean   : 3.185  \n",
            " 3rd Qu.: 70.00   3rd Qu.: 60.00   3rd Qu.: 3   3rd Qu.: 7.000  \n",
            " Max.   :100.00   Max.   :100.00   Max.   : 5   Max.   :10.000  \n",
            "   rep_rate10          fair              age             race       \n",
            " Min.   :-9.000   Min.   :-9.0000   Min.   :-9.00   Min.   :-2.000  \n",
            " 1st Qu.: 0.000   1st Qu.: 1.0000   1st Qu.:33.00   1st Qu.: 1.000  \n",
            " Median : 4.000   Median : 2.0000   Median :49.00   Median : 1.000  \n",
            " Mean   : 3.107   Mean   : 0.9705   Mean   :47.92   Mean   : 1.787  \n",
            " 3rd Qu.: 7.000   3rd Qu.: 2.0000   3rd Qu.:63.00   3rd Qu.: 2.000  \n",
            " Max.   :10.000   Max.   : 5.0000   Max.   :90.00   Max.   : 6.000  \n",
            "      sex               educ          stratum          cluster     \n",
            " Min.   :-1.0000   Min.   :-9.00   Min.   :  1.00   Min.   :1.000  \n",
            " 1st Qu.:-1.0000   1st Qu.: 9.00   1st Qu.: 36.00   1st Qu.:1.000  \n",
            " Median :-1.0000   Median :11.00   Median : 71.00   Median :1.500  \n",
            " Mean   :-0.3021   Mean   :11.66   Mean   : 69.58   Mean   :1.505  \n",
            " 3rd Qu.: 1.0000   3rd Qu.:13.00   3rd Qu.:105.00   3rd Qu.:2.000  \n",
            " Max.   : 2.0000   Max.   :95.00   Max.   :133.00   Max.   :3.000  \n",
            " postvote_weight \n",
            " Min.   :0.0000  \n",
            " 1st Qu.:0.3934  \n",
            " Median :0.7481  \n",
            " Mean   :0.8541  \n",
            " 3rd Qu.:1.1294  \n",
            " Max.   :6.4445  \n"
          ]
        }
      ]
    },
    {
      "cell_type": "markdown",
      "source": [
        "Here I filter the data to only include those who reposnded to the question on whether they think votes are counted fairly and anyone who does not identify as republican or independent.\n",
        "\n",
        "Then I calculate the difference between in-group and out-group rating and make a dummy variable to indicate those who do not believe that the votes were counted fairly."
      ],
      "metadata": {
        "id": "lMKgnaZXBfid"
      }
    },
    {
      "cell_type": "code",
      "source": [
        "%%R\n",
        "\n",
        "df16_clean2 <- df16_clean %>% filter(fair >= 1 & fair <= 5 &\n",
        "                                 party_id >=1 & party_id <= 2) %>%\n",
        "  mutate(dem_rate_clean = case_when(dem_rate >= 0 & dem_rate <= 100 ~ dem_rate,\n",
        "                                    TRUE ~ NA_integer_),\n",
        "         rep_rate_clean = case_when(rep_rate >= 0 & rep_rate <= 100 ~ rep_rate,\n",
        "                                    TRUE ~ NA_integer_),\n",
        "         aff_polar = case_when(party_id == 1 ~ dem_rate_clean - rep_rate_clean,\n",
        "                               party_id == 2 ~ rep_rate_clean - dem_rate_clean),\n",
        "         fair_dummy = case_when(fair == 4 | fair == 5 ~ 1,\n",
        "                                    TRUE ~ 0)\n",
        ")"
      ],
      "metadata": {
        "id": "gmi_GLOHBgYH"
      },
      "execution_count": null,
      "outputs": []
    },
    {
      "cell_type": "markdown",
      "source": [
        "Transforming variables into factors"
      ],
      "metadata": {
        "id": "i8f8rI75BudJ"
      }
    },
    {
      "cell_type": "code",
      "source": [
        "%%R\n",
        "\n",
        "df16_clean2$fair <- df16_clean2$fair %>% as.factor()\n",
        "df16_clean2$fair_dummy <- df16_clean2$fair_dummy %>% as.factor()"
      ],
      "metadata": {
        "id": "eovS5m4hBvOq"
      },
      "execution_count": null,
      "outputs": []
    },
    {
      "cell_type": "markdown",
      "source": [
        "Looking at the fair variable, most respondents fall into categories 1 or 2 which mean they believe votes are counted all of the time or most of the time respectively."
      ],
      "metadata": {
        "id": "v0pXbgIVB2Iz"
      }
    },
    {
      "cell_type": "code",
      "source": [
        "%%R\n",
        "\n",
        "print(table(df16_clean2$fair))"
      ],
      "metadata": {
        "colab": {
          "base_uri": "https://localhost:8080/"
        },
        "id": "Quh_KO5vB28I",
        "outputId": "1636527a-5c71-4e5d-d976-594e29ee4215"
      },
      "execution_count": null,
      "outputs": [
        {
          "output_type": "stream",
          "name": "stdout",
          "text": [
            "\n",
            "   1    2    3    4    5 \n",
            " 440 1277  274  205   82 \n"
          ]
        }
      ]
    },
    {
      "cell_type": "markdown",
      "source": [
        "Looking at affective polarization by group."
      ],
      "metadata": {
        "id": "cJnyNVhZCHpL"
      }
    },
    {
      "cell_type": "code",
      "source": [
        "%%R\n",
        "\n",
        "hist_data16 <- df16_clean2 %>%\n",
        "  filter(party_id == 2) %>%\n",
        "  group_by(fair) %>%\n",
        "  summarize(Mean_polar = mean(aff_polar, na.rm=TRUE))\n",
        "\n",
        "ggplot(hist_data16, aes(x = fair, y = Mean_polar)) +\n",
        "  geom_histogram(stat = 'identity') +\n",
        "  xlab('How often are votes counted fairly?') + \n",
        "  ylab('Average Affective Polarization') +\n",
        "  scale_x_discrete(limit = c(\"1\", \"2\", \"3\", \"4\", \"5\"),\n",
        "                   labels = c(\"All of the Time\", \"Most of the Time\", \n",
        "                              \"About Half of the Time\", \"Some of the Time\", \n",
        "                              \"Never\")) +\n",
        "  theme_bw()"
      ],
      "metadata": {
        "colab": {
          "base_uri": "https://localhost:8080/",
          "height": 497
        },
        "id": "zSdSYOToCKmg",
        "outputId": "df823033-5f95-459a-8bac-b893bac138da"
      },
      "execution_count": null,
      "outputs": [
        {
          "output_type": "display_data",
          "data": {
            "image/png": "[encoded data removed]"
          },
          "metadata": {}
        }
      ]
    },
    {
      "cell_type": "markdown",
      "source": [
        "Based on the ANOVA test we can reject the hypothesis that the mean for each group is equivalent."
      ],
      "metadata": {
        "id": "quio-75uCdRU"
      }
    },
    {
      "cell_type": "code",
      "source": [
        "%%R\n",
        "\n",
        "anova16 <- aov(aff_polar ~ fair, data = df16_clean2)\n",
        "summary(anova16)"
      ],
      "metadata": {
        "colab": {
          "base_uri": "https://localhost:8080/"
        },
        "id": "4Ft_LhswCd8T",
        "outputId": "f468350f-051d-4f14-ab71-f352ac58bc7a"
      },
      "execution_count": null,
      "outputs": [
        {
          "output_type": "stream",
          "name": "stdout",
          "text": [
            "              Df  Sum Sq Mean Sq F value Pr(>F)\n",
            "fair           4    5979    1495   1.456  0.213\n",
            "Residuals   2243 2301965    1026               \n",
            "30 observations deleted due to missingness\n"
          ]
        }
      ]
    },
    {
      "cell_type": "markdown",
      "source": [
        "The affective polarization variable on its own is significant."
      ],
      "metadata": {
        "id": "lqL-74_2C_uz"
      }
    },
    {
      "cell_type": "code",
      "source": [
        "%%R\n",
        "\n",
        "full_design16 <- svydesign(ids = ~fair,\n",
        "                         psu = ~cluster,\n",
        "                         strata = ~stratum,\n",
        "                         weights = ~postvote_weight,\n",
        "                         data = df16_clean2, \n",
        "                         nest = TRUE)\n",
        "\n",
        "svylog_reg16 <- svyglm(fair_dummy ~ aff_polar, design = full_design16, family = 'quasibinomial')\n",
        "summary(svylog_reg16)"
      ],
      "metadata": {
        "colab": {
          "base_uri": "https://localhost:8080/"
        },
        "id": "I4mrvJeQDHBB",
        "outputId": "b2fc3b90-ff79-46be-ec15-97ec90ec938b"
      },
      "execution_count": null,
      "outputs": [
        {
          "output_type": "stream",
          "name": "stdout",
          "text": [
            "\n",
            "Call:\n",
            "svyglm(formula = fair_dummy ~ aff_polar, design = full_design16, \n",
            "    family = \"quasibinomial\")\n",
            "\n",
            "Survey design:\n",
            "svydesign(ids = ~fair, psu = ~cluster, strata = ~stratum, weights = ~postvote_weight, \n",
            "    data = df16_clean2, nest = TRUE)\n",
            "\n",
            "Coefficients:\n",
            "             Estimate Std. Error t value Pr(>|t|)    \n",
            "(Intercept) -2.105307   0.173532 -12.132   <2e-16 ***\n",
            "aff_polar    0.005147   0.002579   1.996   0.0466 *  \n",
            "---\n",
            "Signif. codes:  0 ‘***’ 0.001 ‘**’ 0.01 ‘*’ 0.05 ‘.’ 0.1 ‘ ’ 1\n",
            "\n",
            "(Dispersion parameter for quasibinomial family taken to be 0.9985788)\n",
            "\n",
            "Number of Fisher Scoring iterations: 4\n",
            "\n"
          ]
        }
      ]
    },
    {
      "cell_type": "markdown",
      "source": [
        "After running a logistic regression we can interpret the coefficients.\n",
        "\n",
        "The coefficients represent log-odds given by the following formula, $log(\\frac{p}{1 -p})$ in which p is the probability that y = 1.  In this case y = 1 means that the repsondent does not think the election votes are counted fairly. \n",
        "\n",
        "Below I convert the coefficient from log-odds to probability so that it is more easily interpreted. I compare the affective polarization value of 0 (least polarized) and 100 (most polarized). The expected change in odds between someone with a polarized value of 0 in 100 is 1.673. This means that the odds of someone who is the most polarized is expected to have 1.673 times higher odds not trusting the elections results.\n",
        "\n",
        "We can also convert odds to probability. Probability 1 represents the probability that someone who is the least polarized would not trust the election results (0.108) while probability two is the probability that somebody who is the most polarized would not trust election results (0.169).\n",
        "\n",
        "More info on interpretation: https://stats.oarc.ucla.edu/other/mult-pkg/faq/general/faq-how-do-i-interpret-odds-ratios-in-logistic-regression/"
      ],
      "metadata": {
        "id": "ZG2VbHoQEmBA"
      }
    },
    {
      "cell_type": "code",
      "source": [
        "%%R\n",
        "\n",
        "intercept16 <- coef(svylog_reg16)[1]\n",
        "polar_coef16 <- coef(svylog_reg16)[2]\n",
        "\n",
        "one16 <- intercept16 + polar_coef16*0\n",
        "two16 <- intercept16 + polar_coef16*100\n",
        "\n",
        "print(paste(\"The expected change in odds is\", exp(two16 - one16)))\n",
        "\n",
        "print(paste(\"Probability 1:\", exp(one16)/(1 + exp(one16))))\n",
        "print(paste(\"Probability 2:\", exp(two16)/(1 + exp(two16))))"
      ],
      "metadata": {
        "colab": {
          "base_uri": "https://localhost:8080/"
        },
        "id": "lNd3lrzcEuHw",
        "outputId": "b47e2fad-e30a-4929-f35f-dec12ca1776f"
      },
      "execution_count": null,
      "outputs": [
        {
          "output_type": "stream",
          "name": "stdout",
          "text": [
            "[1] \"The expected change in odds is 1.67312657113898\"\n",
            "[1] \"Probability 1: 0.108582072587537\"\n",
            "[1] \"Probability 2: 0.169297672267675\"\n"
          ]
        }
      ]
    },
    {
      "cell_type": "markdown",
      "source": [
        "Changing all -9 values to NA."
      ],
      "metadata": {
        "id": "02BPXcZQFoiU"
      }
    },
    {
      "cell_type": "code",
      "source": [
        "%%R\n",
        "\n",
        "df16_clean2 <- df16_clean2 %>%\n",
        "   mutate(across(where(is.integer), ~na_if(., -9)))\n",
        "\n",
        "\n",
        "df16_clean2 <- df16_clean2 %>%\n",
        "   mutate(across(where(is.integer), ~na_if(., -8)))\n",
        "\n",
        "\n",
        "df16_clean2 <- df16_clean2 %>%\n",
        "   mutate(across(where(is.integer), ~na_if(., -7)))\n",
        "\n",
        "df16_clean2 <- df16_clean2 %>%\n",
        "   mutate(across(where(is.integer), ~na_if(., -6)))\n",
        "\n",
        "df16_clean2 <- df16_clean2 %>%\n",
        "   mutate(across(where(is.integer), ~na_if(., -99)))"
      ],
      "metadata": {
        "id": "mm8MJ-HcFpd-"
      },
      "execution_count": null,
      "outputs": []
    },
    {
      "cell_type": "markdown",
      "source": [
        "Converting control variables to factors."
      ],
      "metadata": {
        "id": "cCYXaE7hFyM2"
      }
    },
    {
      "cell_type": "code",
      "source": [
        "%%R\n",
        "\n",
        "cols <- c('sex', 'race', 'party_id', 'educ')\n",
        "df16_clean2[cols] <- lapply(df16_clean2[cols], factor)"
      ],
      "metadata": {
        "id": "3u4eY9bQF2iM"
      },
      "execution_count": null,
      "outputs": []
    },
    {
      "cell_type": "markdown",
      "source": [
        "Creating dummy variables for the control variables since svyglm does not recognize factors as categorical variables"
      ],
      "metadata": {
        "id": "s75YwTbCGVqo"
      }
    },
    {
      "cell_type": "code",
      "source": [
        "%%R\n",
        "\n",
        "df16_clean2 <- dummy_cols(df16_clean2, select_columns = cols)"
      ],
      "metadata": {
        "id": "NxPRrQf_GWX7"
      },
      "execution_count": null,
      "outputs": []
    },
    {
      "cell_type": "markdown",
      "source": [
        "Running a logistic regression with all the control variables. Most variables have a significant relationship with perception of fairness.\n",
        "\n",
        "More info on assessing model fit: https://www.statology.org/null-residual-deviance/"
      ],
      "metadata": {
        "id": "cLjHYu1SGdXl"
      }
    },
    {
      "cell_type": "code",
      "source": [
        "%%R\n",
        "\n",
        "full_design <- svydesign(ids = ~fair,\n",
        "                         psu = ~cluster,\n",
        "                         strata = ~stratum,\n",
        "                         weights = ~postvote_weight,\n",
        "                         data = df16_clean2, \n",
        "                         nest = TRUE)\n",
        "\n",
        "svylog_reg2 <- svyglm(fair_dummy ~ aff_polar + party_id_2 + educ_2 + educ_3 + \n",
        "                      educ_4 + educ_5 + race_2 + race_3 + race_4 + race_5 + race_6 +\n",
        "                      age + sex_2, design = full_design, family = 'quasibinomial')\n",
        "summary(svylog_reg2)"
      ],
      "metadata": {
        "colab": {
          "base_uri": "https://localhost:8080/"
        },
        "id": "YasQ7QyHGd4I",
        "outputId": "71addf6d-5c9c-41f8-8f96-1c14342462bc"
      },
      "execution_count": null,
      "outputs": [
        {
          "output_type": "stream",
          "name": "stdout",
          "text": [
            "\n",
            "Call:\n",
            "svyglm(formula = fair_dummy ~ aff_polar + party_id_2 + educ_2 + \n",
            "    educ_3 + educ_4 + educ_5 + race_2 + race_3 + race_4 + race_5 + \n",
            "    race_6 + age + sex_2, design = full_design, family = \"quasibinomial\")\n",
            "\n",
            "Survey design:\n",
            "svydesign(ids = ~fair, psu = ~cluster, strata = ~stratum, weights = ~postvote_weight, \n",
            "    data = df16_clean2, nest = TRUE)\n",
            "\n",
            "Coefficients:\n",
            "             Estimate Std. Error t value Pr(>|t|)    \n",
            "(Intercept) -1.241350   0.329239  -3.770 0.000188 ***\n",
            "aff_polar    0.003063   0.002668   1.148 0.251751    \n",
            "party_id_2  -0.301945   0.201380  -1.499 0.134586    \n",
            "educ_2      16.028543   1.027236  15.604  < 2e-16 ***\n",
            "educ_3       0.427465   0.870851   0.491 0.623803    \n",
            "educ_4       0.022491   0.885884   0.025 0.979758    \n",
            "educ_5      -0.267976   0.841332  -0.319 0.750266    \n",
            "race_2       1.439566   0.228724   6.294 8.35e-10 ***\n",
            "race_3       0.153670   0.497130   0.309 0.757400    \n",
            "race_4       1.770007   0.797834   2.219 0.027096 *  \n",
            "race_5       0.651549   0.249113   2.615 0.009257 ** \n",
            "race_6       0.867988   0.361628   2.400 0.016854 *  \n",
            "age         -0.024084   0.005231  -4.604 5.61e-06 ***\n",
            "sex_2        0.136427   0.302849   0.450 0.652616    \n",
            "---\n",
            "Signif. codes:  0 ‘***’ 0.001 ‘**’ 0.01 ‘*’ 0.05 ‘.’ 0.1 ‘ ’ 1\n",
            "\n",
            "(Dispersion parameter for quasibinomial family taken to be 1.025123)\n",
            "\n",
            "Number of Fisher Scoring iterations: 12\n",
            "\n"
          ]
        }
      ]
    },
    {
      "cell_type": "markdown",
      "source": [
        "After controlling for all the variables the effect of affective polarization for 2016 is not statistically significant (p=0.2517). The expected odds of someone who is the most polarized not trusting the election are 1.35 times higher than someone who is the least polarized (compared to 1.67 before adding in controls).\n",
        "\n",
        "This indicates that some of the controls explain some of the difference in effect between affective polarization and perception of fairness but not all of the difference as the effect is still significant.\n",
        "\n",
        "The reason I didn't calculate the predicted probabilities here is that they are now different based on the other control variables. For example, the model's predicted probability of not trusting election results would now be different for a 40 year-old man compared to a 30 year-old women, even if they had the same level of affective polarization."
      ],
      "metadata": {
        "id": "IJ3-x7YzG_rr"
      }
    },
    {
      "cell_type": "code",
      "source": [
        "%%R\n",
        "\n",
        "intercept16 <- coef(svylog_reg2)[1]\n",
        "polar_coef16 <- coef(svylog_reg2)[2]\n",
        "\n",
        "one16 <-  polar_coef16*0\n",
        "two16 <- polar_coef16*100\n",
        "\n",
        "print(paste(\"The expected change in odds is\", exp(two16 - one16)))"
      ],
      "metadata": {
        "colab": {
          "base_uri": "https://localhost:8080/"
        },
        "id": "Oy1xHVrAHDLq",
        "outputId": "c8d85c39-c08b-4754-96a0-c3a82bfb6d38"
      },
      "execution_count": null,
      "outputs": [
        {
          "output_type": "stream",
          "name": "stdout",
          "text": [
            "[1] \"The expected change in odds is 1.35837943424463\"\n"
          ]
        }
      ]
    },
    {
      "cell_type": "markdown",
      "source": [
        "Plots"
      ],
      "metadata": {
        "id": "9oJ8L69gEptG"
      }
    },
    {
      "cell_type": "code",
      "source": [
        "%%R\n",
        "\n",
        "df16_clean3 <- df16_clean2 %>% filter(party_id == 2) \n",
        "mur16 = mean(df16_clean3$aff_polar, na.rm=TRUE)\n",
        "print('The mean affective polarization for Republicans in 2016 is')\n",
        "print(mur16)\n",
        "\n",
        "hist_data16rep <- df16_clean3 %>%\n",
        "  group_by(fair) %>%\n",
        "  summarize(Mean_polar = mean(aff_polar, na.rm=TRUE))\n",
        "\n",
        "ggplot(hist_data16rep, aes(x = fair, y = Mean_polar)) +\n",
        "  geom_histogram(stat = 'identity') +\n",
        "  xlab('How often are votes counted fairly?') + \n",
        "  ylab('Average Affective Polarization') +\n",
        "  ggtitle('Affective Polarization of Republicans in 2016') +\n",
        "  geom_hline(yintercept=mur16, color='red') +\n",
        "  scale_x_discrete(limit = c(\"1\", \"2\", \"3\", \"4\"),\n",
        "                   labels = c(\"Very Often\", \"Fairly Often\", \n",
        "                              \"Not Often\", \"Not at all Often\")) +\n",
        "  theme_bw()"
      ],
      "metadata": {
        "colab": {
          "base_uri": "https://localhost:8080/",
          "height": 532
        },
        "id": "EaSH__MnEwqr",
        "outputId": "bf7c5fee-1473-490f-d06b-1b6fba1adb2d"
      },
      "execution_count": null,
      "outputs": [
        {
          "output_type": "stream",
          "name": "stdout",
          "text": [
            "[1] \"The mean affective polarization for Republicans in 2016 is\"\n",
            "[1] 43.33203\n"
          ]
        },
        {
          "output_type": "display_data",
          "data": {
            "image/png": "[encoded data removed]"
          },
          "metadata": {}
        }
      ]
    },
    {
      "cell_type": "code",
      "source": [
        "%%R\n",
        "\n",
        "df16_clean4 <- df16_clean2 %>% filter(party_id == 1) \n",
        "mud16 = mean(df16_clean4$aff_polar, na.rm=TRUE)\n",
        "print('The mean affective polarization for Democrats in 2016 is')\n",
        "print(mud16)\n",
        "\n",
        "hist_data16dem <- df16_clean4 %>%\n",
        "  group_by(fair) %>%\n",
        "  summarize(Mean_polar = mean(aff_polar, na.rm=TRUE))\n",
        "\n",
        "ggplot(hist_data16dem, aes(x = fair, y = Mean_polar)) +\n",
        "  geom_histogram(stat = 'identity') +\n",
        "  xlab('How often are votes counted fairly?') + \n",
        "  ylab('Average Affective Polarization') +\n",
        "  ggtitle('Affective Polarization of Democrats in 2016') +\n",
        "  geom_hline(yintercept=mud16, color='red') +\n",
        "  scale_x_discrete(limit = c(\"1\", \"2\", \"3\", \"4\"),\n",
        "                   labels = c(\"Very Often\", \"Fairly Often\", \n",
        "                              \"Not Often\", \"Not at all Often\")) +\n",
        "  theme_bw()"
      ],
      "metadata": {
        "colab": {
          "base_uri": "https://localhost:8080/",
          "height": 532
        },
        "id": "2LX1tkvFFU7k",
        "outputId": "35d0b9f3-61f5-4007-e9ad-fedda054318c"
      },
      "execution_count": null,
      "outputs": [
        {
          "output_type": "stream",
          "name": "stdout",
          "text": [
            "[1] \"The mean affective polarization for Democrats in 2016 is\"\n",
            "[1] 49.07781\n"
          ]
        },
        {
          "output_type": "display_data",
          "data": {
            "image/png": "[encoded data removed]"
          },
          "metadata": {}
        }
      ]
    },
    {
      "cell_type": "code",
      "source": [
        "%%R\n",
        "\n",
        "print(mean(df_clean2$aff_polar, na.rm=TRUE))\n",
        "print(mean(df16_clean2$aff_polar, na.rm=TRUE))\n",
        "print(mean(df12_clean2$aff_polar, na.rm=TRUE))"
      ],
      "metadata": {
        "colab": {
          "base_uri": "https://localhost:8080/"
        },
        "id": "6-SEDRPEgaVl",
        "outputId": "9c71aa31-62e2-4689-da63-8df83c8130e7"
      },
      "execution_count": null,
      "outputs": [
        {
          "output_type": "stream",
          "name": "stdout",
          "text": [
            "[1] 57.97604\n",
            "[1] 46.45702\n",
            "[1] 49.56957\n"
          ]
        }
      ]
    },
    {
      "cell_type": "markdown",
      "source": [
        "# 2012 Data"
      ],
      "metadata": {
        "id": "FKFpOphaIbOv"
      }
    },
    {
      "cell_type": "code",
      "source": [
        "!gdown --id 1-ks3RJz9fX5ATJLM2gUz93M5iGUUBUMd"
      ],
      "metadata": {
        "colab": {
          "base_uri": "https://localhost:8080/"
        },
        "id": "V1iXQJ1hIes2",
        "outputId": "c2d888f2-90ad-481a-9d31-af5f82b24ccb"
      },
      "execution_count": null,
      "outputs": [
        {
          "output_type": "stream",
          "name": "stdout",
          "text": [
            "Downloading...\n",
            "From: https://drive.google.com/uc?id=1-ks3RJz9fX5ATJLM2gUz93M5iGUUBUMd\n",
            "To: /content/anes_timeseries_2012.dta\n",
            "100% 56.5M/56.5M [00:00<00:00, 145MB/s]\n"
          ]
        }
      ]
    },
    {
      "cell_type": "code",
      "source": [
        "%%R\n",
        "\n",
        "df12 <- read_dta('/content/anes_timeseries_2012.dta')\n",
        "write.csv(df12, file = '/content/anes_timeseries_2012.csv')\n",
        "df12 <- read.csv('/content/anes_timeseries_2012.csv')"
      ],
      "metadata": {
        "id": "6ulhSyEWInCa"
      },
      "execution_count": null,
      "outputs": []
    },
    {
      "cell_type": "markdown",
      "source": [
        "Selecting and renaming the relevant variables"
      ],
      "metadata": {
        "id": "PKSSA-J-I6Dn"
      }
    },
    {
      "cell_type": "code",
      "source": [
        "%%R\n",
        "\n",
        "df12_clean <- df12 %>% select(dem_rate = ft_dem, # How would you rate the Democratic Party? (0-100)\n",
        "                              rep_rate = ft_rep, # How would you rate the Republican Party? (0-100)\n",
        "                              party_id = pid_self, # Generally speaking, do you usually think of yourself as Democrat, Republic, an independent, or what?\n",
        "                              dem_rate10 = cses_dptylike, # Rate Democratic Party\n",
        "                              rep_rate10 = cses_rptylike, # Rate Republican Party\n",
        "                              fair = electintpo_countfair, # In your view, how often do the following things occur in this country’s elections: votes are counted fairly? Scale 1-4\n",
        "                              age = dem_age_r_x, # Age\n",
        "                              race = dem_raceeth_x, # Race Summary\n",
        "                              sex = gender_respondent_x, # What is your sex?\n",
        "                              educ = dem_edugroup_x, # education level\n",
        "                              stratum = strata_full,\n",
        "                              cluster = psu_full,\n",
        "                              postvote_weight = weight_full\n",
        ")"
      ],
      "metadata": {
        "id": "sk-HQbrpI6ty"
      },
      "execution_count": null,
      "outputs": []
    },
    {
      "cell_type": "code",
      "source": [
        "%%R\n",
        "\n",
        "summary(df12_clean)"
      ],
      "metadata": {
        "colab": {
          "base_uri": "https://localhost:8080/"
        },
        "id": "9G2wBsmTKWal",
        "outputId": "b6d6a3d4-e6a4-4303-ca91-05d43c47203f"
      },
      "execution_count": null,
      "outputs": [
        {
          "output_type": "stream",
          "name": "stdout",
          "text": [
            "    dem_rate         rep_rate         party_id        dem_rate10    \n",
            " Min.   : -9.00   Min.   : -9.00   Min.   :-9.000   Min.   :-9.000  \n",
            " 1st Qu.: 33.00   1st Qu.: 15.00   1st Qu.: 1.000   1st Qu.: 2.000  \n",
            " Median : 60.00   Median : 50.00   Median : 2.000   Median : 5.000  \n",
            " Mean   : 54.31   Mean   : 41.52   Mean   : 1.808   Mean   : 4.728  \n",
            " 3rd Qu.: 80.00   3rd Qu.: 60.00   3rd Qu.: 3.000   3rd Qu.: 8.000  \n",
            " Max.   :100.00   Max.   :100.00   Max.   : 5.000   Max.   :10.000  \n",
            "   rep_rate10          fair             age             race      \n",
            " Min.   :-9.000   Min.   :-9.000   Min.   :-2.00   Min.   :-9.00  \n",
            " 1st Qu.: 1.000   1st Qu.: 1.000   1st Qu.:35.00   1st Qu.: 1.00  \n",
            " Median : 4.000   Median : 2.000   Median :51.00   Median : 1.00  \n",
            " Mean   : 3.376   Mean   : 1.233   Mean   :48.92   Mean   : 2.04  \n",
            " 3rd Qu.: 6.000   3rd Qu.: 2.000   3rd Qu.:62.00   3rd Qu.: 2.00  \n",
            " Max.   :10.000   Max.   : 4.000   Max.   :90.00   Max.   : 6.00  \n",
            "      sex             educ           stratum         cluster    \n",
            " Min.   :1.000   Min.   :-9.000   Min.   : 1.00   Min.   :   1  \n",
            " 1st Qu.:1.000   1st Qu.: 2.000   1st Qu.: 7.00   1st Qu.:  92  \n",
            " Median :2.000   Median : 3.000   Median :10.00   Median :1028  \n",
            " Mean   :1.519   Mean   : 2.923   Mean   : 8.41   Mean   :1364  \n",
            " 3rd Qu.:2.000   3rd Qu.: 4.000   3rd Qu.:10.00   3rd Qu.:2507  \n",
            " Max.   :2.000   Max.   : 5.000   Max.   :10.00   Max.   :3988  \n",
            " postvote_weight \n",
            " Min.   :0.0210  \n",
            " 1st Qu.:0.3500  \n",
            " Median :0.7130  \n",
            " Mean   :0.9996  \n",
            " 3rd Qu.:1.3787  \n",
            " Max.   :4.9900  \n"
          ]
        }
      ]
    },
    {
      "cell_type": "markdown",
      "source": [
        "Here I filter the data to only include those who reposnded to the question on whether they think votes are counted fairly and anyone who does not identify as republican or independent.\n",
        "\n",
        "Then I calculate the difference between in-group and out-group rating and make a dummy variable to indicate those who do not believe that the votes were counted fairly."
      ],
      "metadata": {
        "id": "-1aGm-Z7Ka6F"
      }
    },
    {
      "cell_type": "code",
      "source": [
        "%%R\n",
        "\n",
        "df12_clean2 <- df12_clean %>% filter(fair >= 1 & fair <= 4 &\n",
        "                                 party_id >=1 & party_id <= 2) %>%\n",
        "  mutate(dem_rate_clean = case_when(dem_rate >= 0 & dem_rate <= 100 ~ dem_rate,\n",
        "                                    TRUE ~ NA_integer_),\n",
        "         rep_rate_clean = case_when(rep_rate >= 0 & rep_rate <= 100 ~ rep_rate,\n",
        "                                    TRUE ~ NA_integer_),\n",
        "         aff_polar = case_when(party_id == 1 ~ dem_rate_clean - rep_rate_clean,\n",
        "                               party_id == 2 ~ rep_rate_clean - dem_rate_clean),\n",
        "         fair_dummy = case_when(fair == 3 | fair == 4 ~ 1,\n",
        "                                    TRUE ~ 0)\n",
        ")"
      ],
      "metadata": {
        "id": "NCZv2zh4KdUA"
      },
      "execution_count": null,
      "outputs": []
    },
    {
      "cell_type": "markdown",
      "source": [
        "Transforming variables into factors"
      ],
      "metadata": {
        "id": "jEKphrBYM4sk"
      }
    },
    {
      "cell_type": "code",
      "source": [
        "%%R\n",
        "\n",
        "df12_clean2$fair <- df12_clean2$fair %>% as.factor()\n",
        "df12_clean2$fair_dummy <- df12_clean2$fair_dummy %>% as.factor()"
      ],
      "metadata": {
        "id": "bLT1GPgyM5Ua"
      },
      "execution_count": null,
      "outputs": []
    },
    {
      "cell_type": "markdown",
      "source": [
        "Looking at the fair variable, most respondents fall into categories 1 or 2 which mean they believe votes are counted all of the time or most of the time respectively. It is important to note that 2012 data only has 4 selections for this question, opposed to 5 selections for 2016 and 2020."
      ],
      "metadata": {
        "id": "Idf6VfinNAbh"
      }
    },
    {
      "cell_type": "code",
      "source": [
        "%%R\n",
        "\n",
        "print(table(df12_clean2$fair))"
      ],
      "metadata": {
        "colab": {
          "base_uri": "https://localhost:8080/"
        },
        "id": "FnCJX3ALNBFL",
        "outputId": "29ed3dac-03a3-4796-89b6-f8a8d06d936c"
      },
      "execution_count": null,
      "outputs": [
        {
          "output_type": "stream",
          "name": "stdout",
          "text": [
            "\n",
            "   1    2    3    4 \n",
            "1142 1731  433  162 \n"
          ]
        }
      ]
    },
    {
      "cell_type": "markdown",
      "source": [
        "Looking at affective polarization by group."
      ],
      "metadata": {
        "id": "w-TMlYGjNabS"
      }
    },
    {
      "cell_type": "code",
      "source": [
        "%%R\n",
        "\n",
        "hist_data12 <- df12_clean2 %>%\n",
        "  filter(party_id == 2) %>%\n",
        "  group_by(fair) %>%\n",
        "  summarize(Mean_polar = mean(aff_polar, na.rm=TRUE))\n",
        "\n",
        "ggplot(hist_data12, aes(x = fair, y = Mean_polar)) +\n",
        "  geom_histogram(stat = 'identity') +\n",
        "  xlab('How often are votes counted fairly?') + \n",
        "  ylab('Average Affective Polarization') +\n",
        "  scale_x_discrete(limit = c(\"1\", \"2\", \"3\", \"4\"),\n",
        "                   labels = c(\"Very Often\", \"Fairly Often\", \n",
        "                              \"Not Often\", \"Not at all Often\")) +\n",
        "  theme_bw()"
      ],
      "metadata": {
        "colab": {
          "base_uri": "https://localhost:8080/",
          "height": 497
        },
        "id": "Jg8MNPKJNbCF",
        "outputId": "cdb25aeb-83e0-436a-c1de-a0eb3d7f3d86"
      },
      "execution_count": null,
      "outputs": [
        {
          "output_type": "display_data",
          "data": {
            "image/png": "[encoded data removed]"
          },
          "metadata": {}
        }
      ]
    },
    {
      "cell_type": "markdown",
      "source": [
        "hypothesis that the mean for each group is equivalent."
      ],
      "metadata": {
        "id": "Gq-YBvl1NoDK"
      }
    },
    {
      "cell_type": "code",
      "source": [
        "%%R\n",
        "\n",
        "anova12 <- aov(aff_polar ~ fair, data = df12_clean2)\n",
        "summary(anova12)"
      ],
      "metadata": {
        "colab": {
          "base_uri": "https://localhost:8080/"
        },
        "id": "jajZ7Ii1Npuc",
        "outputId": "04b37a3c-48fc-430d-802f-0f725cd6a8ad"
      },
      "execution_count": null,
      "outputs": [
        {
          "output_type": "stream",
          "name": "stdout",
          "text": [
            "              Df  Sum Sq Mean Sq F value  Pr(>F)   \n",
            "fair           3   15496    5165   5.075 0.00166 **\n",
            "Residuals   3460 3521499    1018                   \n",
            "---\n",
            "Signif. codes:  0 ‘***’ 0.001 ‘**’ 0.01 ‘*’ 0.05 ‘.’ 0.1 ‘ ’ 1\n",
            "4 observations deleted due to missingness\n"
          ]
        }
      ]
    },
    {
      "cell_type": "markdown",
      "source": [
        "The affective polarization variable on its own is significant."
      ],
      "metadata": {
        "id": "NaVuBddjOnPb"
      }
    },
    {
      "cell_type": "code",
      "source": [
        "%%R\n",
        "\n",
        "full_design12 <- svydesign(ids = ~fair,\n",
        "                         psu = ~cluster,\n",
        "                         strata = ~stratum,\n",
        "                         weights = ~postvote_weight,\n",
        "                         data = df12_clean2, \n",
        "                         nest = TRUE)\n",
        "\n",
        "svylog_reg <- svyglm(fair_dummy ~ aff_polar, design = full_design12, family = 'quasibinomial')\n",
        "summary(svylog_reg)"
      ],
      "metadata": {
        "colab": {
          "base_uri": "https://localhost:8080/"
        },
        "id": "_YSWyUvkOoCd",
        "outputId": "89c9277f-68a0-4669-cadb-2a5772b6b29e"
      },
      "execution_count": null,
      "outputs": [
        {
          "output_type": "stream",
          "name": "stdout",
          "text": [
            "\n",
            "Call:\n",
            "svyglm(formula = fair_dummy ~ aff_polar, design = full_design12, \n",
            "    family = \"quasibinomial\")\n",
            "\n",
            "Survey design:\n",
            "svydesign(ids = ~fair, psu = ~cluster, strata = ~stratum, weights = ~postvote_weight, \n",
            "    data = df12_clean2, nest = TRUE)\n",
            "\n",
            "Coefficients:\n",
            "             Estimate Std. Error t value Pr(>|t|)  \n",
            "(Intercept) -1.811500   0.893171  -2.028   0.0518 .\n",
            "aff_polar    0.005731   0.002357   2.431   0.0214 *\n",
            "---\n",
            "Signif. codes:  0 ‘***’ 0.001 ‘**’ 0.01 ‘*’ 0.05 ‘.’ 0.1 ‘ ’ 1\n",
            "\n",
            "(Dispersion parameter for quasibinomial family taken to be 1.003822)\n",
            "\n",
            "Number of Fisher Scoring iterations: 4\n",
            "\n"
          ]
        }
      ]
    },
    {
      "cell_type": "markdown",
      "source": [
        "After running a logistic regression we can interpret the coefficients.\n",
        "\n",
        "The coefficients represent log-odds given by the following formula, $log(\\frac{p}{1 -p})$ in which p is the probability that y = 1.  In this case y = 1 means that the repsondent does not think the election votes are counted fairly. \n",
        "\n",
        "Below I convert the coefficient from log-odds to probability so that it is more easily interpreted. I compare the affective polarization value of 0 (least polarized) and 100 (most polarized). The expected change in odds between someone with a polarized value of 0 in 100 is 1.773. This means that the odds of someone who is the most polarized is expected to have 1.773 times higher odds not trusting the elections results.\n",
        "\n",
        "We can also convert odds to probability. Probability 1 represents the probability that someone who is the least polarized would not trust the election results (0.140) while probability two is the probability that somebody who is the most polarized would not trust election results (0.224). \n",
        "\n",
        "More info on interpretation: https://stats.oarc.ucla.edu/other/mult-pkg/faq/general/faq-how-do-i-interpret-odds-ratios-in-logistic-regression/"
      ],
      "metadata": {
        "id": "tJpPgcD1Ozn5"
      }
    },
    {
      "cell_type": "code",
      "source": [
        "%%R\n",
        "\n",
        "intercept12 <- coef(svylog_reg)[1]\n",
        "polar_coef12 <- coef(svylog_reg)[2]\n",
        "\n",
        "one12 <- intercept12 + polar_coef12*0\n",
        "two12 <- intercept12 + polar_coef12*100\n",
        "\n",
        "print(paste(\"The expected change in odds is\", exp(two12 - one12)))\n",
        "\n",
        "print(paste(\"Probability 1:\", exp(one12)/(1 + exp(one12))))\n",
        "print(paste(\"Probability 2:\", exp(two12)/(1 + exp(two12))))"
      ],
      "metadata": {
        "colab": {
          "base_uri": "https://localhost:8080/"
        },
        "id": "Yfr9fFiAO0yo",
        "outputId": "4a264433-9ae6-4d7e-99c0-9059720ac81c"
      },
      "execution_count": null,
      "outputs": [
        {
          "output_type": "stream",
          "name": "stdout",
          "text": [
            "[1] \"The expected change in odds is 1.7738392840295\"\n",
            "[1] \"Probability 1: 0.140456994896833\"\n",
            "[1] \"Probability 2: 0.224722761996689\"\n"
          ]
        }
      ]
    },
    {
      "cell_type": "markdown",
      "source": [
        "Changing all -9 values to NA."
      ],
      "metadata": {
        "id": "QbTBzUVbPKSs"
      }
    },
    {
      "cell_type": "code",
      "source": [
        "%%R\n",
        "\n",
        "df12_clean2 <- df12_clean2 %>%\n",
        "   mutate(across(where(is.integer), ~na_if(., -9)))\n",
        "\n",
        "\n",
        "df12_clean2 <- df12_clean2 %>%\n",
        "   mutate(across(where(is.integer), ~na_if(., -8)))\n",
        "\n",
        "\n",
        "df12_clean2 <- df12_clean2 %>%\n",
        "   mutate(across(where(is.integer), ~na_if(., -7)))\n",
        "\n",
        "df12_clean2 <- df12_clean2 %>%\n",
        "   mutate(across(where(is.integer), ~na_if(., -6)))\n",
        "\n",
        "df12_clean2 <- df12_clean2 %>%\n",
        "   mutate(across(where(is.integer), ~na_if(., -99)))\n",
        "\n",
        "df12_clean2 <- df12_clean2 %>%\n",
        "   mutate(across(where(is.integer), ~na_if(., -3)))\n",
        "\n",
        "df12_clean2 <- df12_clean2 %>%\n",
        "   mutate(across(where(is.integer), ~na_if(., -1)))\n",
        "\n",
        "df12_clean2 <- df12_clean2 %>%\n",
        "   mutate(across(where(is.integer), ~na_if(., -4)))\n",
        "\n",
        "df12_clean2 <- df12_clean2 %>%\n",
        "   mutate(across(where(is.integer), ~na_if(., -2)))\n",
        "\n"
      ],
      "metadata": {
        "id": "EyL3LpPkPKye"
      },
      "execution_count": null,
      "outputs": []
    },
    {
      "cell_type": "markdown",
      "source": [
        "Converting control variables to factors."
      ],
      "metadata": {
        "id": "Uy20YX2tPZE0"
      }
    },
    {
      "cell_type": "code",
      "source": [
        "%%R\n",
        "\n",
        "cols <- c('sex', 'race', 'party_id', 'educ')\n",
        "df12_clean2[cols] <- lapply(df12_clean2[cols], factor)"
      ],
      "metadata": {
        "id": "Zixg_6MIPZqk"
      },
      "execution_count": null,
      "outputs": []
    },
    {
      "cell_type": "markdown",
      "source": [
        "Creating dummy variables for the control variables since svyglm does not recognize factors as categorical variables"
      ],
      "metadata": {
        "id": "oCchypM-P2Vb"
      }
    },
    {
      "cell_type": "code",
      "source": [
        "%%R\n",
        "\n",
        "df12_clean2 <- dummy_cols(df12_clean2, select_columns = cols)\n"
      ],
      "metadata": {
        "id": "kU6iChc-P24F"
      },
      "execution_count": null,
      "outputs": []
    },
    {
      "cell_type": "markdown",
      "source": [
        "Running a logistic regression with all the control variables. Most variables have a significant relationship with perception of fairness.\n",
        "\n",
        "More info on assessing model fit: https://www.statology.org/null-residual-deviance/"
      ],
      "metadata": {
        "id": "TaXHSKf1P_sq"
      }
    },
    {
      "cell_type": "code",
      "source": [
        "%%R\n",
        "\n",
        "full_design12 <- svydesign(ids = ~fair,\n",
        "                         psu = ~cluster,\n",
        "                         strata = ~stratum,\n",
        "                         weights = ~postvote_weight,\n",
        "                         data = df12_clean2, \n",
        "                         nest = TRUE)\n",
        "\n",
        "svylog_reg2 <- svyglm(fair_dummy ~ aff_polar + party_id_2 + educ_2 + educ_3 + \n",
        "                      educ_4 + educ_5 + race_2 + race_3 + race_4 + race_5 + \n",
        "                      race_6 + age + sex_2, \n",
        "                      design = full_design12, family = 'quasibinomial')\n",
        "summary(svylog_reg2)\n"
      ],
      "metadata": {
        "colab": {
          "base_uri": "https://localhost:8080/"
        },
        "id": "vsLe05FVQAfr",
        "outputId": "40006f84-5c23-4fe8-9cd2-4288afa22b05"
      },
      "execution_count": null,
      "outputs": [
        {
          "output_type": "stream",
          "name": "stdout",
          "text": [
            "\n",
            "Call:\n",
            "svyglm(formula = fair_dummy ~ aff_polar + party_id_2 + educ_2 + \n",
            "    educ_3 + educ_4 + educ_5 + race_2 + race_3 + race_4 + race_5 + \n",
            "    race_6 + age + sex_2, design = full_design12, family = \"quasibinomial\")\n",
            "\n",
            "Survey design:\n",
            "svydesign(ids = ~fair, psu = ~cluster, strata = ~stratum, weights = ~postvote_weight, \n",
            "    data = df12_clean2, nest = TRUE)\n",
            "\n",
            "Coefficients:\n",
            "             Estimate Std. Error t value Pr(>|t|)    \n",
            "(Intercept) -1.295513   0.922127  -1.405 0.178055    \n",
            "aff_polar    0.006389   0.002421   2.639 0.017232 *  \n",
            "party_id_2   0.674935   0.192744   3.502 0.002734 ** \n",
            "educ_2      -0.270492   0.138885  -1.948 0.068174 .  \n",
            "educ_3      -0.670484   0.219099  -3.060 0.007083 ** \n",
            "educ_4      -1.594241   0.246386  -6.471 5.76e-06 ***\n",
            "educ_5      -1.479696   0.332705  -4.447 0.000353 ***\n",
            "race_2      -0.041867   0.213321  -0.196 0.846732    \n",
            "race_3       0.716173   0.337382   2.123 0.048761 *  \n",
            "race_4      -1.235005   0.593162  -2.082 0.052757 .  \n",
            "race_5       0.216820   0.165316   1.312 0.207109    \n",
            "race_6       0.680607   0.436430   1.559 0.137303    \n",
            "age         -0.008664   0.003732  -2.321 0.032948 *  \n",
            "sex_2        0.289994   0.094769   3.060 0.007086 ** \n",
            "---\n",
            "Signif. codes:  0 ‘***’ 0.001 ‘**’ 0.01 ‘*’ 0.05 ‘.’ 0.1 ‘ ’ 1\n",
            "\n",
            "(Dispersion parameter for quasibinomial family taken to be 0.9876134)\n",
            "\n",
            "Number of Fisher Scoring iterations: 5\n",
            "\n"
          ]
        }
      ]
    },
    {
      "cell_type": "markdown",
      "source": [
        "After controlling for all the variables the effect of affective polarization is stronger and more significant. The expected odds of someone who is the most polarized not trusting the election are 1.86 times higher than someone who is the least polarized (compared to 1.773 before adding in controls).\n",
        "\n",
        "This indicates that some of the controls explain some of the difference in effect between affective polarization and perception of fairness but not all of the difference as the effect is still significant.\n",
        "\n",
        "The reason I didn't calculate the predicted probabilities here is that they are now different based on the other control variables. For example, the model's predicted probability of not trusting election results would now be different for a 40 year-old man compared to a 30 year-old women, even if they had the same level of affective polarization."
      ],
      "metadata": {
        "id": "rmWOaTD3Xijf"
      }
    },
    {
      "cell_type": "code",
      "source": [
        "%%R\n",
        "\n",
        "intercept <- coef(svylog_reg2)[1]\n",
        "polar_coef <- coef(svylog_reg2)[2]\n",
        "\n",
        "one <-  polar_coef*0\n",
        "two <- polar_coef*100\n",
        "\n",
        "print(paste(\"The expected change in odds is\", exp(two - one)))"
      ],
      "metadata": {
        "colab": {
          "base_uri": "https://localhost:8080/"
        },
        "id": "WHLnCfjhXjfq",
        "outputId": "baa475d8-0457-4e7d-ac36-ca9dfcf17747"
      },
      "execution_count": null,
      "outputs": [
        {
          "output_type": "stream",
          "name": "stdout",
          "text": [
            "[1] \"The expected change in odds is 1.89446668855509\"\n"
          ]
        }
      ]
    },
    {
      "cell_type": "code",
      "source": [
        "%%R\n",
        "\n",
        "df12_clean3 <- df12_clean2 %>% filter(party_id == 2) \n",
        "mur = mean(df12_clean3$aff_polar, na.rm=TRUE)\n",
        "print('The mean affective polarization for Republicans in 2012 is')\n",
        "print(mur)\n",
        "\n",
        "hist_data12rep <- df12_clean3 %>%\n",
        "  group_by(fair) %>%\n",
        "  summarize(Mean_polar = mean(aff_polar, na.rm=TRUE))\n",
        "\n",
        "ggplot(hist_data12rep, aes(x = fair, y = Mean_polar)) +\n",
        "  geom_histogram(stat = 'identity') +\n",
        "  xlab('How often are votes counted fairly?') + \n",
        "  ylab('Average Affective Polarization') +\n",
        "  ggtitle('Affective Polarization of Republicans in 2012') +\n",
        "  geom_hline(yintercept=mur, color='red') +\n",
        "  scale_x_discrete(limit = c(\"1\", \"2\", \"3\", \"4\"),\n",
        "                   labels = c(\"Very Often\", \"Fairly Often\", \n",
        "                              \"Not Often\", \"Not at all Often\")) +\n",
        "  theme_bw()"
      ],
      "metadata": {
        "colab": {
          "base_uri": "https://localhost:8080/",
          "height": 532
        },
        "id": "f_c_7ewl47Mx",
        "outputId": "2cb6ffc5-c0df-4caa-a8f4-186bc5557795"
      },
      "execution_count": null,
      "outputs": [
        {
          "output_type": "stream",
          "name": "stdout",
          "text": [
            "[1] \"The mean affective polarization for Republicans in 2012 is\"\n",
            "[1] 43.23077\n"
          ]
        },
        {
          "output_type": "display_data",
          "data": {
            "image/png": "[encoded data removed]"
          },
          "metadata": {}
        }
      ]
    },
    {
      "cell_type": "code",
      "source": [
        "%%R\n",
        "\n",
        "df12_clean4 <- df12_clean2 %>% filter(party_id == 1) \n",
        "\n",
        "mud = mean(df12_clean4$aff_polar, na.rm=TRUE)\n",
        "print('The mean affective polarization for Democrats in 2012 is')\n",
        "print(mud)\n",
        "\n",
        "hist_data12dem <- df12_clean4 %>%\n",
        "  group_by(fair) %>%\n",
        "  summarize(Mean_polar = mean(aff_polar, na.rm=TRUE))\n",
        "\n",
        "ggplot(hist_data12dem, aes(x = fair, y = Mean_polar)) +\n",
        "  geom_histogram(stat = 'identity') +\n",
        "  xlab('How often are votes counted fairly?') + \n",
        "  ylab('Average Affective Polarization') + \n",
        "  ggtitle('Affective Polarization of Democrats in 2012') +\n",
        "  geom_hline(yintercept=mud, color='red') +\n",
        "  scale_x_discrete(limit = c(\"1\", \"2\", \"3\", \"4\"),\n",
        "                   labels = c(\"Very Often\", \"Fairly Often\", \n",
        "                              \"Not Often\", \"Not at all Often\")) +\n",
        "  theme_bw()"
      ],
      "metadata": {
        "colab": {
          "base_uri": "https://localhost:8080/",
          "height": 532
        },
        "id": "qsc68exS67SH",
        "outputId": "0771fd19-39e2-41bf-e6d3-35418d8098ab"
      },
      "execution_count": null,
      "outputs": [
        {
          "output_type": "stream",
          "name": "stdout",
          "text": [
            "[1] \"The mean affective polarization for Democrats in 2012 is\"\n",
            "[1] 53.2485\n"
          ]
        },
        {
          "output_type": "display_data",
          "data": {
            "image/png": "[encoded data removed]"
          },
          "metadata": {}
        }
      ]
    }
  ]
}